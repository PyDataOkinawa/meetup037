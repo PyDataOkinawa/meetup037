{
  "nbformat": 4,
  "nbformat_minor": 0,
  "metadata": {
    "colab": {
      "name": "99_練習_tensorboardへの値追加.ipynb",
      "version": "0.3.2",
      "provenance": [],
      "collapsed_sections": [],
      "include_colab_link": true
    },
    "kernelspec": {
      "name": "python3",
      "display_name": "Python 3"
    },
    "accelerator": "GPU"
  },
  "cells": [
    {
      "cell_type": "markdown",
      "metadata": {
        "id": "view-in-github",
        "colab_type": "text"
      },
      "source": [
        "<a href=\"https://colab.research.google.com/github/Aipakazuma/meetup037/blob/master/99_%E7%B7%B4%E7%BF%92_tensorboard%E3%81%B8%E3%81%AE%E5%80%A4%E8%BF%BD%E5%8A%A0.ipynb\" target=\"_parent\"><img src=\"https://colab.research.google.com/assets/colab-badge.svg\" alt=\"Open In Colab\"/></a>"
      ]
    },
    {
      "metadata": {
        "id": "uwaAg_ZXd_Tr",
        "colab_type": "text"
      },
      "cell_type": "markdown",
      "source": [
        "# Tensorboardへ値追加\n",
        "\n",
        "* tensorboardのクラスを継承して値や画像を表示させてみる"
      ]
    },
    {
      "metadata": {
        "id": "bFYoG7xCdysF",
        "colab_type": "code",
        "outputId": "bfc1ead3-3507-4c77-9eed-161185e85697",
        "colab": {
          "base_uri": "https://localhost:8080/",
          "height": 34
        }
      },
      "cell_type": "code",
      "source": [
        "from keras.datasets import cifar10\n",
        "from keras.models import Sequential\n",
        "from keras.layers import Dense, Flatten, Activation\n",
        "from keras.utils import np_utils\n",
        "\n",
        "\n",
        "import numpy as np\n",
        "import pandas as pd\n",
        "import matplotlib.pyplot as plt\n",
        "from datetime import datetime"
      ],
      "execution_count": 1,
      "outputs": [
        {
          "output_type": "stream",
          "text": [
            "Using TensorFlow backend.\n"
          ],
          "name": "stderr"
        }
      ]
    },
    {
      "metadata": {
        "id": "gABG6NHQeGro",
        "colab_type": "code",
        "outputId": "4b04e16e-4a28-4087-ff23-7d7c121bdccf",
        "colab": {
          "base_uri": "https://localhost:8080/",
          "height": 68
        }
      },
      "cell_type": "code",
      "source": [
        "!npm install -g localtunnel"
      ],
      "execution_count": 2,
      "outputs": [
        {
          "output_type": "stream",
          "text": [
            "\u001b[K\u001b[?25h/tools/node/bin/lt -> /tools/node/lib/node_modules/localtunnel/bin/client\n",
            "\u001b[K\u001b[?25h+ localtunnel@1.9.1\n",
            "added 54 packages from 32 contributors in 2.909s\n"
          ],
          "name": "stdout"
        }
      ]
    },
    {
      "metadata": {
        "id": "2PQA3E0xeIOQ",
        "colab_type": "code",
        "colab": {}
      },
      "cell_type": "code",
      "source": [
        "!rm -rf ./logs/\n",
        "!mkdir ./logs/"
      ],
      "execution_count": 0,
      "outputs": []
    },
    {
      "metadata": {
        "id": "OdpbvWNveLCI",
        "colab_type": "code",
        "colab": {}
      },
      "cell_type": "code",
      "source": [
        "log_dir = './logs/'"
      ],
      "execution_count": 0,
      "outputs": []
    },
    {
      "metadata": {
        "id": "7kq1uTS3eMFa",
        "colab_type": "code",
        "colab": {}
      },
      "cell_type": "code",
      "source": [
        "get_ipython().system_raw(\n",
        "    'tensorboard --logdir {} --host 0.0.0.0 --port 6006 &'.format(log_dir)\n",
        ")"
      ],
      "execution_count": 0,
      "outputs": []
    },
    {
      "metadata": {
        "id": "0wZA_hfPs30S",
        "colab_type": "code",
        "colab": {}
      },
      "cell_type": "code",
      "source": [
        "# 負荷かなにかでまれに落ちるので再実行してください\n",
        "get_ipython().system_raw('lt --port 6006 > url.txt 2>&1 &')"
      ],
      "execution_count": 0,
      "outputs": []
    },
    {
      "metadata": {
        "id": "Z9YFnoJkp9_x",
        "colab_type": "code",
        "outputId": "2d510ef5-e9e7-4722-f6d9-1db286444a0a",
        "colab": {
          "base_uri": "https://localhost:8080/",
          "height": 68
        }
      },
      "cell_type": "code",
      "source": [
        "!ps aux | grep tensorboard"
      ],
      "execution_count": 29,
      "outputs": [
        {
          "output_type": "stream",
          "text": [
            "root         149  0.8  2.4 1725044 329528 ?      Sl   07:42   0:14 /usr/bin/python2 /usr/local/bin/tensorboard --logdir ./logs/ --host 0.0.0.0 --port 6006\n",
            "root        1702  0.0  0.0  39196  6572 ?        S    08:09   0:00 /bin/bash -c ps aux | grep tensorboard\n",
            "root        1704  0.0  0.0  38568  5604 ?        S    08:09   0:00 grep tensorboard\n"
          ],
          "name": "stdout"
        }
      ]
    },
    {
      "metadata": {
        "id": "Hm5d0vd9e1mC",
        "colab_type": "code",
        "outputId": "a4fbaa62-1e6b-45fd-fb37-47c3a15511a0",
        "colab": {
          "base_uri": "https://localhost:8080/",
          "height": 34
        }
      },
      "cell_type": "code",
      "source": [
        "!cat url.txt"
      ],
      "execution_count": 30,
      "outputs": [
        {
          "output_type": "stream",
          "text": [
            "your url is: https://wet-mole-0.localtunnel.me\n"
          ],
          "name": "stdout"
        }
      ]
    },
    {
      "metadata": {
        "id": "VAkmoTKdfK77",
        "colab_type": "text"
      },
      "cell_type": "markdown",
      "source": [
        "## Tensorboardカスタマイズ\n",
        "\n",
        "\n",
        "* 学習中の確率値の変化を確認したい\n",
        "* 学習中、画像がちゃんと読み込めているか入力された画像を表示したい"
      ]
    },
    {
      "metadata": {
        "id": "RnTcAJw8fNTc",
        "colab_type": "code",
        "colab": {}
      },
      "cell_type": "code",
      "source": [
        "import os\n",
        "import tensorflow as tf\n",
        "from keras.callbacks import TensorBoard\n",
        "\n",
        "\n",
        "\"\"\"\n",
        "on_epoch_begin: すべてのエポックの開始時に呼ばれます．\n",
        "on_epoch_end: すべてのエポックの終了時に呼ばれます．\n",
        "on_batch_begin: すべてのバッチの開始時に呼ばれます．\n",
        "on_batch_end: すべてのバッチの終了時に呼ばれます．\n",
        "on_train_begin: 訓練の開始時に呼ばれます．\n",
        "on_train_end: 訓練の終了時に呼ばれます．\n",
        "\n",
        "https://keras.io/ja/callbacks/#lambdacallback\n",
        "\"\"\"\n",
        "\n",
        "\n",
        "class CustomTensorBoard(TensorBoard):\n",
        "    def __init__(self, **kwargs):\n",
        "        super(CustomTensorBoard, self).__init__(**kwargs)\n",
        "\n",
        "    def on_epoch_end(self, epoch, logs=None):\n",
        "        logs = logs or {}\n",
        "        \n",
        "        # logsはdictで、{key: value}を書き込むと\n",
        "        # Tensorboardのscalarsに項目が追加されます\n",
        "        # epoch毎にランダムで-100 ~ 100の間をランダムで取得して追加する.\n",
        "        logs['int_test'] = np.random.randint(-100, 100)\n",
        "        \n",
        "        super(CustomTensorBoard, self).on_epoch_end(epoch=epoch, logs=logs)"
      ],
      "execution_count": 0,
      "outputs": []
    },
    {
      "metadata": {
        "id": "sSl7J11ifDyM",
        "colab_type": "text"
      },
      "cell_type": "markdown",
      "source": [
        "## データダウンロード"
      ]
    },
    {
      "metadata": {
        "id": "QR30KE2mfARk",
        "colab_type": "code",
        "outputId": "85745ba5-7f3d-4679-f02c-bac1b8b64840",
        "colab": {
          "base_uri": "https://localhost:8080/",
          "height": 51
        }
      },
      "cell_type": "code",
      "source": [
        "(X_train, y_train), (X_test, y_test) = cifar10.load_data()"
      ],
      "execution_count": 9,
      "outputs": [
        {
          "output_type": "stream",
          "text": [
            "Downloading data from https://www.cs.toronto.edu/~kriz/cifar-10-python.tar.gz\n",
            "170500096/170498071 [==============================] - 38s 0us/step\n"
          ],
          "name": "stdout"
        }
      ]
    },
    {
      "metadata": {
        "id": "ro2iPYhmfC1w",
        "colab_type": "code",
        "colab": {}
      },
      "cell_type": "code",
      "source": [
        "# 画像を0-1の範囲で正規化\n",
        "X_train = X_train.astype('float32') / 255.0\n",
        "X_test = X_test.astype('float32') / 255.0\n",
        "\n",
        "# 正解ラベルをOne-Hot表現に変換\n",
        "y_train = np_utils.to_categorical(y_train, 10)\n",
        "y_test = np_utils.to_categorical(y_test, 10)"
      ],
      "execution_count": 0,
      "outputs": []
    },
    {
      "metadata": {
        "id": "ilB2Uu2afGen",
        "colab_type": "code",
        "colab": {}
      },
      "cell_type": "code",
      "source": [
        "model = Sequential()\n",
        "model.add(Flatten(input_shape=(32, 32, 3)))\n",
        "model.add(Dense(32))\n",
        "model.add(Activation('relu'))\n",
        "\n",
        "model.add(Dense(32))\n",
        "model.add(Activation('relu'))\n",
        "\n",
        "model.add(Dense(10))\n",
        "model.add(Activation('softmax'))\n",
        "\n",
        "model.compile(optimizer='adam',loss='categorical_crossentropy', metrics=['accuracy'])"
      ],
      "execution_count": 0,
      "outputs": []
    },
    {
      "metadata": {
        "id": "iEGBCgVfjBHP",
        "colab_type": "code",
        "outputId": "be651ed7-f5f6-4c43-9ef1-2dd9ac18f995",
        "colab": {
          "base_uri": "https://localhost:8080/",
          "height": 374
        }
      },
      "cell_type": "code",
      "source": [
        "model.summary()"
      ],
      "execution_count": 12,
      "outputs": [
        {
          "output_type": "stream",
          "text": [
            "_________________________________________________________________\n",
            "Layer (type)                 Output Shape              Param #   \n",
            "=================================================================\n",
            "flatten_1 (Flatten)          (None, 3072)              0         \n",
            "_________________________________________________________________\n",
            "dense_1 (Dense)              (None, 32)                98336     \n",
            "_________________________________________________________________\n",
            "activation_1 (Activation)    (None, 32)                0         \n",
            "_________________________________________________________________\n",
            "dense_2 (Dense)              (None, 32)                1056      \n",
            "_________________________________________________________________\n",
            "activation_2 (Activation)    (None, 32)                0         \n",
            "_________________________________________________________________\n",
            "dense_3 (Dense)              (None, 10)                330       \n",
            "_________________________________________________________________\n",
            "activation_3 (Activation)    (None, 10)                0         \n",
            "=================================================================\n",
            "Total params: 99,722\n",
            "Trainable params: 99,722\n",
            "Non-trainable params: 0\n",
            "_________________________________________________________________\n"
          ],
          "name": "stdout"
        }
      ]
    },
    {
      "metadata": {
        "id": "BV_E9I7pnV5_",
        "colab_type": "code",
        "outputId": "f975ab8b-4de3-4855-ed35-dc051a835c29",
        "colab": {
          "base_uri": "https://localhost:8080/",
          "height": 34
        }
      },
      "cell_type": "code",
      "source": [
        "!ls -lht logs/*/"
      ],
      "execution_count": 13,
      "outputs": [
        {
          "output_type": "stream",
          "text": [
            "ls: cannot access 'logs/*/': No such file or directory\n"
          ],
          "name": "stdout"
        }
      ]
    },
    {
      "metadata": {
        "id": "PCdl6u3_jDG0",
        "colab_type": "code",
        "outputId": "f8c559f7-31ad-4c1d-810f-d56796fa114a",
        "colab": {
          "base_uri": "https://localhost:8080/",
          "height": 10251
        }
      },
      "cell_type": "code",
      "source": [
        "epochs = 300\n",
        "batch_size = 128\n",
        "\n",
        "try:\n",
        "  \n",
        "    # 実行するたびにディレクトリを作成するようにする.\n",
        "    a = datetime.now()\n",
        "    logs_name = a.strftime('%Y%m%d_%H%M%S')\n",
        "    write_log_dir = '{}{}/'.format(log_dir, logs_name)\n",
        "    tensorboard = CustomTensorBoard(log_dir=write_log_dir, batch_size=batch_size)\n",
        "    \n",
        "    print('書き込むディレクトリ名: {}'.format(write_log_dir))\n",
        "    callbacks = [tensorboard]\n",
        "    \n",
        "    history = model.fit(X_train, y_train, epochs=epochs, batch_size=batch_size,\n",
        "                                     callbacks=callbacks, validation_data=(X_test, y_test))\n",
        "except KeyboardInterrupt:\n",
        "    tensorboard.writer.close()"
      ],
      "execution_count": 27,
      "outputs": [
        {
          "output_type": "stream",
          "text": [
            "書き込むディレクトリ名: ./logs/20181214_075257/\n",
            "Train on 50000 samples, validate on 10000 samples\n",
            "Epoch 1/300\n",
            "50000/50000 [==============================] - 3s 65us/step - loss: 1.4678 - acc: 0.4749 - val_loss: 1.5825 - val_acc: 0.4395\n",
            "Epoch 2/300\n",
            "50000/50000 [==============================] - 3s 65us/step - loss: 1.4679 - acc: 0.4717 - val_loss: 1.5549 - val_acc: 0.4436\n",
            "Epoch 3/300\n",
            "50000/50000 [==============================] - 3s 69us/step - loss: 1.4731 - acc: 0.4719 - val_loss: 1.5669 - val_acc: 0.4395\n",
            "Epoch 4/300\n",
            "50000/50000 [==============================] - 3s 67us/step - loss: 1.4673 - acc: 0.4734 - val_loss: 1.5547 - val_acc: 0.4439\n",
            "Epoch 5/300\n",
            "50000/50000 [==============================] - 3s 66us/step - loss: 1.4662 - acc: 0.4725 - val_loss: 1.5498 - val_acc: 0.4441\n",
            "Epoch 6/300\n",
            "50000/50000 [==============================] - 3s 69us/step - loss: 1.4688 - acc: 0.4723 - val_loss: 1.5617 - val_acc: 0.4443\n",
            "Epoch 7/300\n",
            "50000/50000 [==============================] - 3s 65us/step - loss: 1.4654 - acc: 0.4726 - val_loss: 1.5756 - val_acc: 0.4370\n",
            "Epoch 8/300\n",
            "50000/50000 [==============================] - 3s 65us/step - loss: 1.4663 - acc: 0.4728 - val_loss: 1.5518 - val_acc: 0.4471\n",
            "Epoch 9/300\n",
            "50000/50000 [==============================] - 3s 65us/step - loss: 1.4639 - acc: 0.4728 - val_loss: 1.5786 - val_acc: 0.4400\n",
            "Epoch 10/300\n",
            "50000/50000 [==============================] - 3s 65us/step - loss: 1.4635 - acc: 0.4759 - val_loss: 1.5513 - val_acc: 0.4452\n",
            "Epoch 11/300\n",
            "50000/50000 [==============================] - 3s 66us/step - loss: 1.4626 - acc: 0.4773 - val_loss: 1.5688 - val_acc: 0.4470\n",
            "Epoch 12/300\n",
            "50000/50000 [==============================] - 3s 66us/step - loss: 1.4680 - acc: 0.4734 - val_loss: 1.5503 - val_acc: 0.4457\n",
            "Epoch 13/300\n",
            "50000/50000 [==============================] - 3s 66us/step - loss: 1.4639 - acc: 0.4755 - val_loss: 1.5572 - val_acc: 0.4449\n",
            "Epoch 14/300\n",
            "50000/50000 [==============================] - 3s 64us/step - loss: 1.4652 - acc: 0.4738 - val_loss: 1.5452 - val_acc: 0.4530\n",
            "Epoch 15/300\n",
            "50000/50000 [==============================] - 3s 64us/step - loss: 1.4576 - acc: 0.4779 - val_loss: 1.5659 - val_acc: 0.4408\n",
            "Epoch 16/300\n",
            "50000/50000 [==============================] - 3s 66us/step - loss: 1.4620 - acc: 0.4740 - val_loss: 1.5709 - val_acc: 0.4402\n",
            "Epoch 17/300\n",
            "50000/50000 [==============================] - 3s 66us/step - loss: 1.4623 - acc: 0.4745 - val_loss: 1.5868 - val_acc: 0.4354\n",
            "Epoch 18/300\n",
            "50000/50000 [==============================] - 3s 65us/step - loss: 1.4595 - acc: 0.4760 - val_loss: 1.5819 - val_acc: 0.4400\n",
            "Epoch 19/300\n",
            "50000/50000 [==============================] - 3s 64us/step - loss: 1.4581 - acc: 0.4772 - val_loss: 1.5659 - val_acc: 0.4439\n",
            "Epoch 20/300\n",
            "50000/50000 [==============================] - 3s 64us/step - loss: 1.4671 - acc: 0.4714 - val_loss: 1.5855 - val_acc: 0.4326\n",
            "Epoch 21/300\n",
            "50000/50000 [==============================] - 3s 63us/step - loss: 1.4595 - acc: 0.4775 - val_loss: 1.5668 - val_acc: 0.4398\n",
            "Epoch 22/300\n",
            "50000/50000 [==============================] - 3s 64us/step - loss: 1.4603 - acc: 0.4755 - val_loss: 1.5759 - val_acc: 0.4391\n",
            "Epoch 23/300\n",
            "50000/50000 [==============================] - 3s 66us/step - loss: 1.4586 - acc: 0.4763 - val_loss: 1.5843 - val_acc: 0.4311\n",
            "Epoch 24/300\n",
            "50000/50000 [==============================] - 3s 65us/step - loss: 1.4598 - acc: 0.4756 - val_loss: 1.5611 - val_acc: 0.4394\n",
            "Epoch 25/300\n",
            "50000/50000 [==============================] - 3s 64us/step - loss: 1.4593 - acc: 0.4783 - val_loss: 1.5697 - val_acc: 0.4456\n",
            "Epoch 26/300\n",
            "50000/50000 [==============================] - 3s 65us/step - loss: 1.4546 - acc: 0.4773 - val_loss: 1.5981 - val_acc: 0.4363\n",
            "Epoch 27/300\n",
            "50000/50000 [==============================] - 3s 65us/step - loss: 1.4592 - acc: 0.4761 - val_loss: 1.5560 - val_acc: 0.4466\n",
            "Epoch 28/300\n",
            "50000/50000 [==============================] - 3s 65us/step - loss: 1.4570 - acc: 0.4781 - val_loss: 1.5488 - val_acc: 0.4485\n",
            "Epoch 29/300\n",
            "50000/50000 [==============================] - 3s 64us/step - loss: 1.4594 - acc: 0.4753 - val_loss: 1.5524 - val_acc: 0.4516\n",
            "Epoch 30/300\n",
            "50000/50000 [==============================] - 3s 66us/step - loss: 1.4564 - acc: 0.4776 - val_loss: 1.5639 - val_acc: 0.4473\n",
            "Epoch 31/300\n",
            "50000/50000 [==============================] - 3s 67us/step - loss: 1.4572 - acc: 0.4767 - val_loss: 1.5645 - val_acc: 0.4421\n",
            "Epoch 32/300\n",
            "50000/50000 [==============================] - 3s 67us/step - loss: 1.4558 - acc: 0.4800 - val_loss: 1.5534 - val_acc: 0.4470\n",
            "Epoch 33/300\n",
            "50000/50000 [==============================] - 3s 70us/step - loss: 1.4572 - acc: 0.4772 - val_loss: 1.5750 - val_acc: 0.4456\n",
            "Epoch 34/300\n",
            "50000/50000 [==============================] - 3s 70us/step - loss: 1.4605 - acc: 0.4766 - val_loss: 1.5979 - val_acc: 0.4331\n",
            "Epoch 35/300\n",
            "50000/50000 [==============================] - 3s 67us/step - loss: 1.4545 - acc: 0.4777 - val_loss: 1.5657 - val_acc: 0.4450\n",
            "Epoch 36/300\n",
            "50000/50000 [==============================] - 3s 69us/step - loss: 1.4582 - acc: 0.4774 - val_loss: 1.5672 - val_acc: 0.4442\n",
            "Epoch 37/300\n",
            "50000/50000 [==============================] - 3s 65us/step - loss: 1.4537 - acc: 0.4782 - val_loss: 1.5598 - val_acc: 0.4453\n",
            "Epoch 38/300\n",
            "50000/50000 [==============================] - 3s 64us/step - loss: 1.4532 - acc: 0.4793 - val_loss: 1.5748 - val_acc: 0.4407\n",
            "Epoch 39/300\n",
            "50000/50000 [==============================] - 3s 67us/step - loss: 1.4534 - acc: 0.4781 - val_loss: 1.5570 - val_acc: 0.4446\n",
            "Epoch 40/300\n",
            "50000/50000 [==============================] - 3s 67us/step - loss: 1.4535 - acc: 0.4766 - val_loss: 1.5565 - val_acc: 0.4487\n",
            "Epoch 41/300\n",
            "50000/50000 [==============================] - 3s 65us/step - loss: 1.4575 - acc: 0.4774 - val_loss: 1.5558 - val_acc: 0.4435\n",
            "Epoch 42/300\n",
            "50000/50000 [==============================] - 3s 67us/step - loss: 1.4502 - acc: 0.4801 - val_loss: 1.5589 - val_acc: 0.4504\n",
            "Epoch 43/300\n",
            "50000/50000 [==============================] - 3s 65us/step - loss: 1.4535 - acc: 0.4787 - val_loss: 1.5694 - val_acc: 0.4468\n",
            "Epoch 44/300\n",
            "50000/50000 [==============================] - 3s 66us/step - loss: 1.4517 - acc: 0.4771 - val_loss: 1.5671 - val_acc: 0.4457\n",
            "Epoch 45/300\n",
            "50000/50000 [==============================] - 3s 66us/step - loss: 1.4586 - acc: 0.4759 - val_loss: 1.5682 - val_acc: 0.4378\n",
            "Epoch 46/300\n",
            "50000/50000 [==============================] - 3s 65us/step - loss: 1.4548 - acc: 0.4777 - val_loss: 1.5493 - val_acc: 0.4471\n",
            "Epoch 47/300\n",
            "50000/50000 [==============================] - 3s 66us/step - loss: 1.4521 - acc: 0.4772 - val_loss: 1.5738 - val_acc: 0.4374\n",
            "Epoch 48/300\n",
            "50000/50000 [==============================] - 3s 66us/step - loss: 1.4481 - acc: 0.4801 - val_loss: 1.5841 - val_acc: 0.4348\n",
            "Epoch 49/300\n",
            "50000/50000 [==============================] - 3s 67us/step - loss: 1.4491 - acc: 0.4800 - val_loss: 1.5600 - val_acc: 0.4438\n",
            "Epoch 50/300\n",
            "50000/50000 [==============================] - 3s 68us/step - loss: 1.4498 - acc: 0.4782 - val_loss: 1.5744 - val_acc: 0.4360\n",
            "Epoch 51/300\n",
            "50000/50000 [==============================] - 3s 65us/step - loss: 1.4479 - acc: 0.4811 - val_loss: 1.5754 - val_acc: 0.4367\n",
            "Epoch 52/300\n",
            "50000/50000 [==============================] - 3s 66us/step - loss: 1.4507 - acc: 0.4792 - val_loss: 1.5588 - val_acc: 0.4488\n",
            "Epoch 53/300\n",
            "50000/50000 [==============================] - 3s 65us/step - loss: 1.4506 - acc: 0.4796 - val_loss: 1.5588 - val_acc: 0.4463\n",
            "Epoch 54/300\n",
            "50000/50000 [==============================] - 3s 65us/step - loss: 1.4487 - acc: 0.4796 - val_loss: 1.5595 - val_acc: 0.4407\n",
            "Epoch 55/300\n",
            "50000/50000 [==============================] - 3s 66us/step - loss: 1.4514 - acc: 0.4796 - val_loss: 1.6045 - val_acc: 0.4347\n",
            "Epoch 56/300\n",
            "50000/50000 [==============================] - 3s 65us/step - loss: 1.4467 - acc: 0.4776 - val_loss: 1.5934 - val_acc: 0.4298\n",
            "Epoch 57/300\n",
            "50000/50000 [==============================] - 3s 64us/step - loss: 1.4503 - acc: 0.4796 - val_loss: 1.5534 - val_acc: 0.4474\n",
            "Epoch 58/300\n",
            "50000/50000 [==============================] - 3s 68us/step - loss: 1.4474 - acc: 0.4803 - val_loss: 1.5546 - val_acc: 0.4429\n",
            "Epoch 59/300\n",
            "50000/50000 [==============================] - 4s 72us/step - loss: 1.4450 - acc: 0.4824 - val_loss: 1.5959 - val_acc: 0.4313\n",
            "Epoch 60/300\n",
            "50000/50000 [==============================] - 4s 73us/step - loss: 1.4465 - acc: 0.4809 - val_loss: 1.5580 - val_acc: 0.4454\n",
            "Epoch 61/300\n",
            "50000/50000 [==============================] - 3s 64us/step - loss: 1.4465 - acc: 0.4818 - val_loss: 1.5809 - val_acc: 0.4346\n",
            "Epoch 62/300\n",
            "50000/50000 [==============================] - 3s 65us/step - loss: 1.4454 - acc: 0.4811 - val_loss: 1.5495 - val_acc: 0.4460\n",
            "Epoch 63/300\n",
            "50000/50000 [==============================] - 3s 67us/step - loss: 1.4488 - acc: 0.4803 - val_loss: 1.5668 - val_acc: 0.4396\n",
            "Epoch 64/300\n",
            "50000/50000 [==============================] - 3s 65us/step - loss: 1.4469 - acc: 0.4798 - val_loss: 1.5855 - val_acc: 0.4387\n",
            "Epoch 65/300\n",
            "50000/50000 [==============================] - 3s 65us/step - loss: 1.4510 - acc: 0.4790 - val_loss: 1.5699 - val_acc: 0.4384\n",
            "Epoch 66/300\n",
            "50000/50000 [==============================] - 3s 65us/step - loss: 1.4421 - acc: 0.4830 - val_loss: 1.5663 - val_acc: 0.4466\n",
            "Epoch 67/300\n",
            "50000/50000 [==============================] - 3s 65us/step - loss: 1.4480 - acc: 0.4780 - val_loss: 1.5583 - val_acc: 0.4476\n",
            "Epoch 68/300\n",
            "50000/50000 [==============================] - 3s 64us/step - loss: 1.4466 - acc: 0.4811 - val_loss: 1.5756 - val_acc: 0.4406\n",
            "Epoch 69/300\n",
            "50000/50000 [==============================] - 3s 64us/step - loss: 1.4448 - acc: 0.4808 - val_loss: 1.5847 - val_acc: 0.4348\n",
            "Epoch 70/300\n",
            "50000/50000 [==============================] - 3s 67us/step - loss: 1.4473 - acc: 0.4804 - val_loss: 1.5609 - val_acc: 0.4450\n",
            "Epoch 71/300\n",
            "50000/50000 [==============================] - 3s 64us/step - loss: 1.4480 - acc: 0.4819 - val_loss: 1.5612 - val_acc: 0.4437\n",
            "Epoch 72/300\n",
            "50000/50000 [==============================] - 3s 67us/step - loss: 1.4411 - acc: 0.4814 - val_loss: 1.5691 - val_acc: 0.4396\n",
            "Epoch 73/300\n",
            "50000/50000 [==============================] - 3s 68us/step - loss: 1.4406 - acc: 0.4832 - val_loss: 1.5522 - val_acc: 0.4482\n",
            "Epoch 74/300\n",
            "50000/50000 [==============================] - 3s 68us/step - loss: 1.4459 - acc: 0.4805 - val_loss: 1.5658 - val_acc: 0.4418\n",
            "Epoch 75/300\n",
            "50000/50000 [==============================] - 3s 65us/step - loss: 1.4390 - acc: 0.4820 - val_loss: 1.5676 - val_acc: 0.4428\n",
            "Epoch 76/300\n",
            "50000/50000 [==============================] - 3s 65us/step - loss: 1.4399 - acc: 0.4822 - val_loss: 1.5622 - val_acc: 0.4377\n",
            "Epoch 77/300\n",
            "50000/50000 [==============================] - 3s 63us/step - loss: 1.4394 - acc: 0.4827 - val_loss: 1.5626 - val_acc: 0.4460\n",
            "Epoch 78/300\n",
            "50000/50000 [==============================] - 3s 64us/step - loss: 1.4422 - acc: 0.4821 - val_loss: 1.5857 - val_acc: 0.4342\n",
            "Epoch 79/300\n",
            "50000/50000 [==============================] - 3s 63us/step - loss: 1.4427 - acc: 0.4820 - val_loss: 1.5610 - val_acc: 0.4435\n",
            "Epoch 80/300\n",
            "50000/50000 [==============================] - 3s 63us/step - loss: 1.4412 - acc: 0.4835 - val_loss: 1.5635 - val_acc: 0.4452\n",
            "Epoch 81/300\n",
            "50000/50000 [==============================] - 3s 65us/step - loss: 1.4444 - acc: 0.4812 - val_loss: 1.5650 - val_acc: 0.4442\n",
            "Epoch 82/300\n",
            "50000/50000 [==============================] - 3s 64us/step - loss: 1.4426 - acc: 0.4833 - val_loss: 1.5519 - val_acc: 0.4434\n",
            "Epoch 83/300\n",
            "50000/50000 [==============================] - 3s 65us/step - loss: 1.4419 - acc: 0.4809 - val_loss: 1.5740 - val_acc: 0.4458\n",
            "Epoch 84/300\n",
            "50000/50000 [==============================] - 3s 66us/step - loss: 1.4380 - acc: 0.4835 - val_loss: 1.5634 - val_acc: 0.4446\n",
            "Epoch 85/300\n",
            "50000/50000 [==============================] - 3s 66us/step - loss: 1.4440 - acc: 0.4809 - val_loss: 1.5704 - val_acc: 0.4411\n",
            "Epoch 86/300\n",
            "50000/50000 [==============================] - 3s 66us/step - loss: 1.4417 - acc: 0.4804 - val_loss: 1.5570 - val_acc: 0.4443\n",
            "Epoch 87/300\n",
            "50000/50000 [==============================] - 3s 64us/step - loss: 1.4357 - acc: 0.4842 - val_loss: 1.5646 - val_acc: 0.4449\n",
            "Epoch 88/300\n",
            "50000/50000 [==============================] - 3s 64us/step - loss: 1.4396 - acc: 0.4818 - val_loss: 1.5608 - val_acc: 0.4430\n",
            "Epoch 89/300\n",
            "50000/50000 [==============================] - 3s 63us/step - loss: 1.4421 - acc: 0.4841 - val_loss: 1.5546 - val_acc: 0.4471\n",
            "Epoch 90/300\n",
            "50000/50000 [==============================] - 3s 64us/step - loss: 1.4352 - acc: 0.4858 - val_loss: 1.5654 - val_acc: 0.4444\n",
            "Epoch 91/300\n",
            "50000/50000 [==============================] - 3s 63us/step - loss: 1.4396 - acc: 0.4827 - val_loss: 1.5707 - val_acc: 0.4404\n",
            "Epoch 92/300\n",
            "50000/50000 [==============================] - 3s 66us/step - loss: 1.4386 - acc: 0.4832 - val_loss: 1.5610 - val_acc: 0.4475\n",
            "Epoch 93/300\n",
            "50000/50000 [==============================] - 3s 66us/step - loss: 1.4384 - acc: 0.4826 - val_loss: 1.5865 - val_acc: 0.4342\n",
            "Epoch 94/300\n",
            "50000/50000 [==============================] - 3s 62us/step - loss: 1.4388 - acc: 0.4832 - val_loss: 1.5718 - val_acc: 0.4396\n",
            "Epoch 95/300\n",
            "50000/50000 [==============================] - 3s 66us/step - loss: 1.4391 - acc: 0.4842 - val_loss: 1.5798 - val_acc: 0.4362\n",
            "Epoch 96/300\n",
            "50000/50000 [==============================] - 3s 63us/step - loss: 1.4379 - acc: 0.4836 - val_loss: 1.5660 - val_acc: 0.4429\n",
            "Epoch 97/300\n",
            "50000/50000 [==============================] - 3s 63us/step - loss: 1.4326 - acc: 0.4841 - val_loss: 1.5604 - val_acc: 0.4452\n",
            "Epoch 98/300\n",
            "50000/50000 [==============================] - 3s 63us/step - loss: 1.4418 - acc: 0.4824 - val_loss: 1.5919 - val_acc: 0.4276\n",
            "Epoch 99/300\n",
            "50000/50000 [==============================] - 3s 63us/step - loss: 1.4396 - acc: 0.4827 - val_loss: 1.5759 - val_acc: 0.4403\n",
            "Epoch 100/300\n",
            "50000/50000 [==============================] - 3s 63us/step - loss: 1.4365 - acc: 0.4819 - val_loss: 1.5586 - val_acc: 0.4499\n",
            "Epoch 101/300\n",
            "50000/50000 [==============================] - 3s 63us/step - loss: 1.4432 - acc: 0.4824 - val_loss: 1.5697 - val_acc: 0.4447\n",
            "Epoch 102/300\n",
            "50000/50000 [==============================] - 3s 64us/step - loss: 1.4356 - acc: 0.4832 - val_loss: 1.5676 - val_acc: 0.4403\n",
            "Epoch 103/300\n",
            "50000/50000 [==============================] - 3s 62us/step - loss: 1.4325 - acc: 0.4861 - val_loss: 1.5985 - val_acc: 0.4340\n",
            "Epoch 104/300\n",
            "50000/50000 [==============================] - 3s 63us/step - loss: 1.4338 - acc: 0.4836 - val_loss: 1.5578 - val_acc: 0.4444\n",
            "Epoch 105/300\n",
            "50000/50000 [==============================] - 3s 65us/step - loss: 1.4338 - acc: 0.4864 - val_loss: 1.5806 - val_acc: 0.4355\n",
            "Epoch 106/300\n",
            "50000/50000 [==============================] - 3s 62us/step - loss: 1.4354 - acc: 0.4835 - val_loss: 1.5589 - val_acc: 0.4416\n",
            "Epoch 107/300\n",
            "50000/50000 [==============================] - 3s 63us/step - loss: 1.4298 - acc: 0.4853 - val_loss: 1.5908 - val_acc: 0.4293\n",
            "Epoch 108/300\n",
            "50000/50000 [==============================] - 3s 64us/step - loss: 1.4354 - acc: 0.4844 - val_loss: 1.5717 - val_acc: 0.4393\n",
            "Epoch 109/300\n",
            "50000/50000 [==============================] - 3s 63us/step - loss: 1.4332 - acc: 0.4868 - val_loss: 1.5638 - val_acc: 0.4437\n",
            "Epoch 110/300\n",
            "50000/50000 [==============================] - 3s 63us/step - loss: 1.4333 - acc: 0.4855 - val_loss: 1.5838 - val_acc: 0.4358\n",
            "Epoch 111/300\n",
            "50000/50000 [==============================] - 3s 63us/step - loss: 1.4285 - acc: 0.4886 - val_loss: 1.5748 - val_acc: 0.4420\n",
            "Epoch 112/300\n",
            "50000/50000 [==============================] - 3s 64us/step - loss: 1.4330 - acc: 0.4861 - val_loss: 1.5877 - val_acc: 0.4380\n",
            "Epoch 113/300\n",
            "50000/50000 [==============================] - 3s 64us/step - loss: 1.4334 - acc: 0.4863 - val_loss: 1.5656 - val_acc: 0.4435\n",
            "Epoch 114/300\n",
            "50000/50000 [==============================] - 3s 64us/step - loss: 1.4317 - acc: 0.4870 - val_loss: 1.5637 - val_acc: 0.4383\n",
            "Epoch 115/300\n",
            "50000/50000 [==============================] - 3s 63us/step - loss: 1.4307 - acc: 0.4856 - val_loss: 1.5587 - val_acc: 0.4453\n",
            "Epoch 116/300\n",
            "50000/50000 [==============================] - 3s 62us/step - loss: 1.4349 - acc: 0.4840 - val_loss: 1.5633 - val_acc: 0.4477\n",
            "Epoch 117/300\n",
            "50000/50000 [==============================] - 3s 62us/step - loss: 1.4339 - acc: 0.4849 - val_loss: 1.5674 - val_acc: 0.4421\n",
            "Epoch 118/300\n",
            "50000/50000 [==============================] - 3s 63us/step - loss: 1.4298 - acc: 0.4849 - val_loss: 1.5619 - val_acc: 0.4444\n",
            "Epoch 119/300\n",
            "50000/50000 [==============================] - 3s 63us/step - loss: 1.4313 - acc: 0.4864 - val_loss: 1.5647 - val_acc: 0.4391\n",
            "Epoch 120/300\n",
            "50000/50000 [==============================] - 3s 62us/step - loss: 1.4288 - acc: 0.4878 - val_loss: 1.5713 - val_acc: 0.4404\n",
            "Epoch 121/300\n",
            "50000/50000 [==============================] - 3s 62us/step - loss: 1.4337 - acc: 0.4852 - val_loss: 1.5652 - val_acc: 0.4440\n",
            "Epoch 122/300\n",
            "50000/50000 [==============================] - 3s 62us/step - loss: 1.4313 - acc: 0.4857 - val_loss: 1.5967 - val_acc: 0.4304\n",
            "Epoch 123/300\n",
            "50000/50000 [==============================] - 3s 62us/step - loss: 1.4270 - acc: 0.4879 - val_loss: 1.5641 - val_acc: 0.4410\n",
            "Epoch 124/300\n",
            "50000/50000 [==============================] - 3s 62us/step - loss: 1.4301 - acc: 0.4856 - val_loss: 1.5825 - val_acc: 0.4377\n",
            "Epoch 125/300\n",
            "50000/50000 [==============================] - 3s 63us/step - loss: 1.4288 - acc: 0.4854 - val_loss: 1.5992 - val_acc: 0.4294\n",
            "Epoch 126/300\n",
            "50000/50000 [==============================] - 3s 63us/step - loss: 1.4316 - acc: 0.4861 - val_loss: 1.5775 - val_acc: 0.4444\n",
            "Epoch 127/300\n",
            "50000/50000 [==============================] - 3s 63us/step - loss: 1.4294 - acc: 0.4831 - val_loss: 1.5663 - val_acc: 0.4418\n",
            "Epoch 128/300\n",
            "50000/50000 [==============================] - 3s 63us/step - loss: 1.4303 - acc: 0.4861 - val_loss: 1.5826 - val_acc: 0.4411\n",
            "Epoch 129/300\n",
            "50000/50000 [==============================] - 3s 64us/step - loss: 1.4315 - acc: 0.4851 - val_loss: 1.5703 - val_acc: 0.4397\n",
            "Epoch 130/300\n",
            "50000/50000 [==============================] - 3s 63us/step - loss: 1.4289 - acc: 0.4873 - val_loss: 1.5656 - val_acc: 0.4419\n",
            "Epoch 131/300\n",
            "50000/50000 [==============================] - 3s 63us/step - loss: 1.4301 - acc: 0.4879 - val_loss: 1.5600 - val_acc: 0.4428\n",
            "Epoch 132/300\n",
            "50000/50000 [==============================] - 3s 63us/step - loss: 1.4270 - acc: 0.4886 - val_loss: 1.5728 - val_acc: 0.4342\n",
            "Epoch 133/300\n",
            "50000/50000 [==============================] - 3s 63us/step - loss: 1.4277 - acc: 0.4876 - val_loss: 1.5768 - val_acc: 0.4381\n",
            "Epoch 134/300\n",
            "50000/50000 [==============================] - 3s 65us/step - loss: 1.4309 - acc: 0.4861 - val_loss: 1.5746 - val_acc: 0.4398\n",
            "Epoch 135/300\n",
            "50000/50000 [==============================] - 3s 65us/step - loss: 1.4323 - acc: 0.4832 - val_loss: 1.5915 - val_acc: 0.4328\n",
            "Epoch 136/300\n",
            "50000/50000 [==============================] - 3s 64us/step - loss: 1.4291 - acc: 0.4864 - val_loss: 1.5717 - val_acc: 0.4404\n",
            "Epoch 137/300\n",
            "50000/50000 [==============================] - 3s 65us/step - loss: 1.4245 - acc: 0.4878 - val_loss: 1.5733 - val_acc: 0.4336\n",
            "Epoch 138/300\n",
            "50000/50000 [==============================] - 3s 65us/step - loss: 1.4259 - acc: 0.4875 - val_loss: 1.5824 - val_acc: 0.4372\n",
            "Epoch 139/300\n",
            "50000/50000 [==============================] - 3s 65us/step - loss: 1.4253 - acc: 0.4873 - val_loss: 1.5637 - val_acc: 0.4372\n",
            "Epoch 140/300\n",
            "50000/50000 [==============================] - 3s 65us/step - loss: 1.4258 - acc: 0.4880 - val_loss: 1.5662 - val_acc: 0.4419\n",
            "Epoch 141/300\n",
            "50000/50000 [==============================] - 3s 66us/step - loss: 1.4284 - acc: 0.4864 - val_loss: 1.5863 - val_acc: 0.4349\n",
            "Epoch 142/300\n",
            "50000/50000 [==============================] - 3s 66us/step - loss: 1.4263 - acc: 0.4876 - val_loss: 1.5706 - val_acc: 0.4389\n",
            "Epoch 143/300\n",
            "50000/50000 [==============================] - 3s 65us/step - loss: 1.4241 - acc: 0.4881 - val_loss: 1.5719 - val_acc: 0.4386\n",
            "Epoch 144/300\n",
            "50000/50000 [==============================] - 3s 65us/step - loss: 1.4248 - acc: 0.4874 - val_loss: 1.5640 - val_acc: 0.4478\n",
            "Epoch 145/300\n",
            "50000/50000 [==============================] - 3s 65us/step - loss: 1.4241 - acc: 0.4865 - val_loss: 1.5732 - val_acc: 0.4394\n",
            "Epoch 146/300\n",
            "50000/50000 [==============================] - 3s 65us/step - loss: 1.4228 - acc: 0.4889 - val_loss: 1.5699 - val_acc: 0.4410\n",
            "Epoch 147/300\n",
            "50000/50000 [==============================] - 3s 65us/step - loss: 1.4261 - acc: 0.4870 - val_loss: 1.5741 - val_acc: 0.4366\n",
            "Epoch 148/300\n",
            "50000/50000 [==============================] - 3s 65us/step - loss: 1.4240 - acc: 0.4880 - val_loss: 1.5664 - val_acc: 0.4372\n",
            "Epoch 149/300\n",
            "50000/50000 [==============================] - 3s 65us/step - loss: 1.4286 - acc: 0.4874 - val_loss: 1.5733 - val_acc: 0.4381\n",
            "Epoch 150/300\n",
            "50000/50000 [==============================] - 3s 65us/step - loss: 1.4227 - acc: 0.4886 - val_loss: 1.5690 - val_acc: 0.4463\n",
            "Epoch 151/300\n",
            "50000/50000 [==============================] - 3s 65us/step - loss: 1.4258 - acc: 0.4891 - val_loss: 1.5785 - val_acc: 0.4343\n",
            "Epoch 152/300\n",
            "50000/50000 [==============================] - 3s 65us/step - loss: 1.4260 - acc: 0.4891 - val_loss: 1.5749 - val_acc: 0.4373\n",
            "Epoch 153/300\n",
            "50000/50000 [==============================] - 3s 65us/step - loss: 1.4233 - acc: 0.4888 - val_loss: 1.5926 - val_acc: 0.4364\n",
            "Epoch 154/300\n",
            "50000/50000 [==============================] - 3s 65us/step - loss: 1.4272 - acc: 0.4866 - val_loss: 1.5727 - val_acc: 0.4391\n",
            "Epoch 155/300\n",
            "50000/50000 [==============================] - 3s 65us/step - loss: 1.4242 - acc: 0.4893 - val_loss: 1.5748 - val_acc: 0.4404\n",
            "Epoch 156/300\n",
            "50000/50000 [==============================] - 3s 65us/step - loss: 1.4233 - acc: 0.4882 - val_loss: 1.5893 - val_acc: 0.4397\n",
            "Epoch 157/300\n",
            "50000/50000 [==============================] - 3s 65us/step - loss: 1.4246 - acc: 0.4882 - val_loss: 1.5692 - val_acc: 0.4437\n",
            "Epoch 158/300\n",
            "50000/50000 [==============================] - 3s 65us/step - loss: 1.4192 - acc: 0.4889 - val_loss: 1.6016 - val_acc: 0.4257\n",
            "Epoch 159/300\n",
            "50000/50000 [==============================] - 3s 66us/step - loss: 1.4204 - acc: 0.4895 - val_loss: 1.5997 - val_acc: 0.4311\n",
            "Epoch 160/300\n",
            "50000/50000 [==============================] - 3s 65us/step - loss: 1.4251 - acc: 0.4861 - val_loss: 1.5629 - val_acc: 0.4450\n",
            "Epoch 161/300\n",
            "50000/50000 [==============================] - 3s 65us/step - loss: 1.4186 - acc: 0.4918 - val_loss: 1.5930 - val_acc: 0.4298\n",
            "Epoch 162/300\n",
            "50000/50000 [==============================] - 3s 65us/step - loss: 1.4235 - acc: 0.4897 - val_loss: 1.5934 - val_acc: 0.4442\n",
            "Epoch 163/300\n",
            "50000/50000 [==============================] - 3s 65us/step - loss: 1.4228 - acc: 0.4887 - val_loss: 1.5692 - val_acc: 0.4427\n",
            "Epoch 164/300\n",
            "50000/50000 [==============================] - 3s 65us/step - loss: 1.4247 - acc: 0.4890 - val_loss: 1.5689 - val_acc: 0.4424\n",
            "Epoch 165/300\n",
            "50000/50000 [==============================] - 3s 65us/step - loss: 1.4194 - acc: 0.4896 - val_loss: 1.5637 - val_acc: 0.4432\n",
            "Epoch 166/300\n",
            "50000/50000 [==============================] - 3s 65us/step - loss: 1.4159 - acc: 0.4933 - val_loss: 1.5849 - val_acc: 0.4405\n",
            "Epoch 167/300\n",
            "50000/50000 [==============================] - 3s 65us/step - loss: 1.4229 - acc: 0.4894 - val_loss: 1.5791 - val_acc: 0.4401\n",
            "Epoch 168/300\n",
            "50000/50000 [==============================] - 3s 65us/step - loss: 1.4213 - acc: 0.4888 - val_loss: 1.5698 - val_acc: 0.4474\n",
            "Epoch 169/300\n",
            "50000/50000 [==============================] - 3s 65us/step - loss: 1.4189 - acc: 0.4898 - val_loss: 1.5675 - val_acc: 0.4391\n",
            "Epoch 170/300\n",
            "50000/50000 [==============================] - 3s 66us/step - loss: 1.4202 - acc: 0.4905 - val_loss: 1.5959 - val_acc: 0.4323\n",
            "Epoch 171/300\n",
            "50000/50000 [==============================] - 3s 66us/step - loss: 1.4188 - acc: 0.4904 - val_loss: 1.5800 - val_acc: 0.4394\n",
            "Epoch 172/300\n",
            "50000/50000 [==============================] - 3s 65us/step - loss: 1.4212 - acc: 0.4898 - val_loss: 1.5770 - val_acc: 0.4386\n",
            "Epoch 173/300\n",
            "50000/50000 [==============================] - 3s 65us/step - loss: 1.4193 - acc: 0.4892 - val_loss: 1.5783 - val_acc: 0.4389\n",
            "Epoch 174/300\n",
            "50000/50000 [==============================] - 3s 65us/step - loss: 1.4218 - acc: 0.4894 - val_loss: 1.5862 - val_acc: 0.4394\n",
            "Epoch 175/300\n",
            "50000/50000 [==============================] - 3s 65us/step - loss: 1.4210 - acc: 0.4881 - val_loss: 1.5644 - val_acc: 0.4399\n",
            "Epoch 176/300\n",
            "50000/50000 [==============================] - 3s 65us/step - loss: 1.4188 - acc: 0.4904 - val_loss: 1.5725 - val_acc: 0.4443\n",
            "Epoch 177/300\n",
            "50000/50000 [==============================] - 3s 65us/step - loss: 1.4192 - acc: 0.4882 - val_loss: 1.5950 - val_acc: 0.4369\n",
            "Epoch 178/300\n",
            "50000/50000 [==============================] - 3s 65us/step - loss: 1.4155 - acc: 0.4896 - val_loss: 1.5694 - val_acc: 0.4407\n",
            "Epoch 179/300\n",
            "50000/50000 [==============================] - 3s 65us/step - loss: 1.4185 - acc: 0.4914 - val_loss: 1.6003 - val_acc: 0.4303\n",
            "Epoch 180/300\n",
            "50000/50000 [==============================] - 3s 65us/step - loss: 1.4222 - acc: 0.4892 - val_loss: 1.6038 - val_acc: 0.4333\n",
            "Epoch 181/300\n",
            "50000/50000 [==============================] - 3s 66us/step - loss: 1.4183 - acc: 0.4894 - val_loss: 1.5674 - val_acc: 0.4408\n",
            "Epoch 182/300\n",
            "50000/50000 [==============================] - 3s 66us/step - loss: 1.4175 - acc: 0.4888 - val_loss: 1.5752 - val_acc: 0.4370\n",
            "Epoch 183/300\n",
            "50000/50000 [==============================] - 3s 65us/step - loss: 1.4142 - acc: 0.4920 - val_loss: 1.5864 - val_acc: 0.4375\n",
            "Epoch 184/300\n",
            "50000/50000 [==============================] - 3s 66us/step - loss: 1.4159 - acc: 0.4905 - val_loss: 1.5697 - val_acc: 0.4404\n",
            "Epoch 185/300\n",
            "50000/50000 [==============================] - 3s 65us/step - loss: 1.4175 - acc: 0.4895 - val_loss: 1.5736 - val_acc: 0.4405\n",
            "Epoch 186/300\n",
            "50000/50000 [==============================] - 3s 65us/step - loss: 1.4196 - acc: 0.4884 - val_loss: 1.5775 - val_acc: 0.4380\n",
            "Epoch 187/300\n",
            "50000/50000 [==============================] - 3s 66us/step - loss: 1.4187 - acc: 0.4898 - val_loss: 1.5853 - val_acc: 0.4399\n",
            "Epoch 188/300\n",
            "50000/50000 [==============================] - 3s 66us/step - loss: 1.4204 - acc: 0.4880 - val_loss: 1.5961 - val_acc: 0.4321\n",
            "Epoch 189/300\n",
            "50000/50000 [==============================] - 3s 66us/step - loss: 1.4164 - acc: 0.4931 - val_loss: 1.5901 - val_acc: 0.4376\n",
            "Epoch 190/300\n",
            "50000/50000 [==============================] - 3s 65us/step - loss: 1.4198 - acc: 0.4885 - val_loss: 1.5734 - val_acc: 0.4399\n",
            "Epoch 191/300\n",
            "50000/50000 [==============================] - 3s 65us/step - loss: 1.4190 - acc: 0.4909 - val_loss: 1.5790 - val_acc: 0.4376\n",
            "Epoch 192/300\n",
            "50000/50000 [==============================] - 3s 65us/step - loss: 1.4175 - acc: 0.4885 - val_loss: 1.5782 - val_acc: 0.4368\n",
            "Epoch 193/300\n",
            "50000/50000 [==============================] - 3s 65us/step - loss: 1.4137 - acc: 0.4905 - val_loss: 1.5904 - val_acc: 0.4314\n",
            "Epoch 194/300\n",
            "50000/50000 [==============================] - 3s 65us/step - loss: 1.4128 - acc: 0.4919 - val_loss: 1.5857 - val_acc: 0.4417\n",
            "Epoch 195/300\n",
            "50000/50000 [==============================] - 3s 65us/step - loss: 1.4151 - acc: 0.4915 - val_loss: 1.5856 - val_acc: 0.4373\n",
            "Epoch 196/300\n",
            "50000/50000 [==============================] - 3s 65us/step - loss: 1.4190 - acc: 0.4889 - val_loss: 1.5652 - val_acc: 0.4418\n",
            "Epoch 197/300\n",
            "50000/50000 [==============================] - 3s 66us/step - loss: 1.4143 - acc: 0.4928 - val_loss: 1.5812 - val_acc: 0.4400\n",
            "Epoch 198/300\n",
            "50000/50000 [==============================] - 3s 65us/step - loss: 1.4169 - acc: 0.4911 - val_loss: 1.5809 - val_acc: 0.4401\n",
            "Epoch 199/300\n",
            "50000/50000 [==============================] - 3s 65us/step - loss: 1.4144 - acc: 0.4913 - val_loss: 1.5746 - val_acc: 0.4339\n",
            "Epoch 200/300\n",
            "50000/50000 [==============================] - 3s 64us/step - loss: 1.4141 - acc: 0.4903 - val_loss: 1.5754 - val_acc: 0.4408\n",
            "Epoch 201/300\n",
            "50000/50000 [==============================] - 3s 65us/step - loss: 1.4177 - acc: 0.4896 - val_loss: 1.5911 - val_acc: 0.4344\n",
            "Epoch 202/300\n",
            "50000/50000 [==============================] - 3s 65us/step - loss: 1.4145 - acc: 0.4904 - val_loss: 1.5797 - val_acc: 0.4434\n",
            "Epoch 203/300\n",
            "50000/50000 [==============================] - 3s 65us/step - loss: 1.4153 - acc: 0.4904 - val_loss: 1.5752 - val_acc: 0.4384\n",
            "Epoch 204/300\n",
            "50000/50000 [==============================] - 3s 66us/step - loss: 1.4165 - acc: 0.4923 - val_loss: 1.6167 - val_acc: 0.4306\n",
            "Epoch 205/300\n",
            "50000/50000 [==============================] - 3s 65us/step - loss: 1.4122 - acc: 0.4913 - val_loss: 1.5961 - val_acc: 0.4332\n",
            "Epoch 206/300\n",
            "50000/50000 [==============================] - 3s 65us/step - loss: 1.4147 - acc: 0.4922 - val_loss: 1.5938 - val_acc: 0.4380\n",
            "Epoch 207/300\n",
            "50000/50000 [==============================] - 3s 66us/step - loss: 1.4136 - acc: 0.4899 - val_loss: 1.5704 - val_acc: 0.4406\n",
            "Epoch 208/300\n",
            "50000/50000 [==============================] - 3s 66us/step - loss: 1.4175 - acc: 0.4893 - val_loss: 1.5911 - val_acc: 0.4336\n",
            "Epoch 209/300\n",
            "50000/50000 [==============================] - 3s 65us/step - loss: 1.4110 - acc: 0.4930 - val_loss: 1.5698 - val_acc: 0.4416\n",
            "Epoch 210/300\n",
            "50000/50000 [==============================] - 3s 66us/step - loss: 1.4110 - acc: 0.4909 - val_loss: 1.5817 - val_acc: 0.4359\n",
            "Epoch 211/300\n",
            "50000/50000 [==============================] - 3s 66us/step - loss: 1.4129 - acc: 0.4930 - val_loss: 1.5874 - val_acc: 0.4393\n",
            "Epoch 212/300\n",
            "50000/50000 [==============================] - 3s 65us/step - loss: 1.4156 - acc: 0.4910 - val_loss: 1.5702 - val_acc: 0.4411\n",
            "Epoch 213/300\n",
            "50000/50000 [==============================] - 3s 65us/step - loss: 1.4168 - acc: 0.4919 - val_loss: 1.5943 - val_acc: 0.4332\n",
            "Epoch 214/300\n",
            "50000/50000 [==============================] - 3s 66us/step - loss: 1.4152 - acc: 0.4897 - val_loss: 1.5832 - val_acc: 0.4374\n",
            "Epoch 215/300\n",
            "50000/50000 [==============================] - 3s 65us/step - loss: 1.4153 - acc: 0.4902 - val_loss: 1.5942 - val_acc: 0.4331\n",
            "Epoch 216/300\n",
            "50000/50000 [==============================] - 3s 65us/step - loss: 1.4140 - acc: 0.4915 - val_loss: 1.5980 - val_acc: 0.4381\n",
            "Epoch 217/300\n",
            "50000/50000 [==============================] - 3s 65us/step - loss: 1.4123 - acc: 0.4922 - val_loss: 1.5827 - val_acc: 0.4347\n",
            "Epoch 218/300\n",
            "50000/50000 [==============================] - 3s 65us/step - loss: 1.4143 - acc: 0.4902 - val_loss: 1.5734 - val_acc: 0.4380\n",
            "Epoch 219/300\n",
            "50000/50000 [==============================] - 3s 65us/step - loss: 1.4156 - acc: 0.4904 - val_loss: 1.5960 - val_acc: 0.4340\n",
            "Epoch 220/300\n",
            "50000/50000 [==============================] - 3s 65us/step - loss: 1.4124 - acc: 0.4903 - val_loss: 1.5866 - val_acc: 0.4390\n",
            "Epoch 221/300\n",
            "50000/50000 [==============================] - 3s 66us/step - loss: 1.4125 - acc: 0.4912 - val_loss: 1.5905 - val_acc: 0.4360\n",
            "Epoch 222/300\n",
            "50000/50000 [==============================] - 3s 66us/step - loss: 1.4083 - acc: 0.4941 - val_loss: 1.5964 - val_acc: 0.4363\n",
            "Epoch 223/300\n",
            "50000/50000 [==============================] - 3s 65us/step - loss: 1.4111 - acc: 0.4931 - val_loss: 1.6048 - val_acc: 0.4286\n",
            "Epoch 224/300\n",
            "50000/50000 [==============================] - 3s 66us/step - loss: 1.4102 - acc: 0.4934 - val_loss: 1.5868 - val_acc: 0.4411\n",
            "Epoch 225/300\n",
            "50000/50000 [==============================] - 3s 66us/step - loss: 1.4102 - acc: 0.4921 - val_loss: 1.5940 - val_acc: 0.4368\n",
            "Epoch 226/300\n",
            "50000/50000 [==============================] - 3s 66us/step - loss: 1.4120 - acc: 0.4947 - val_loss: 1.5829 - val_acc: 0.4402\n",
            "Epoch 227/300\n",
            "50000/50000 [==============================] - 3s 65us/step - loss: 1.4108 - acc: 0.4926 - val_loss: 1.6124 - val_acc: 0.4316\n",
            "Epoch 228/300\n",
            "50000/50000 [==============================] - 3s 66us/step - loss: 1.4101 - acc: 0.4939 - val_loss: 1.5987 - val_acc: 0.4351\n",
            "Epoch 229/300\n",
            "50000/50000 [==============================] - 3s 65us/step - loss: 1.4129 - acc: 0.4891 - val_loss: 1.5832 - val_acc: 0.4324\n",
            "Epoch 230/300\n",
            "50000/50000 [==============================] - 3s 66us/step - loss: 1.4100 - acc: 0.4932 - val_loss: 1.5793 - val_acc: 0.4389\n",
            "Epoch 231/300\n",
            "50000/50000 [==============================] - 3s 65us/step - loss: 1.4085 - acc: 0.4944 - val_loss: 1.5917 - val_acc: 0.4324\n",
            "Epoch 232/300\n",
            "50000/50000 [==============================] - 3s 65us/step - loss: 1.4078 - acc: 0.4939 - val_loss: 1.5830 - val_acc: 0.4416\n",
            "Epoch 233/300\n",
            "50000/50000 [==============================] - 3s 65us/step - loss: 1.4101 - acc: 0.4923 - val_loss: 1.5774 - val_acc: 0.4414\n",
            "Epoch 234/300\n",
            "50000/50000 [==============================] - 3s 65us/step - loss: 1.4078 - acc: 0.4939 - val_loss: 1.5788 - val_acc: 0.4389\n",
            "Epoch 235/300\n",
            "50000/50000 [==============================] - 3s 65us/step - loss: 1.4140 - acc: 0.4909 - val_loss: 1.5757 - val_acc: 0.4366\n",
            "Epoch 236/300\n",
            "50000/50000 [==============================] - 3s 66us/step - loss: 1.4039 - acc: 0.4937 - val_loss: 1.5757 - val_acc: 0.4377\n",
            "Epoch 237/300\n",
            "50000/50000 [==============================] - 3s 66us/step - loss: 1.4102 - acc: 0.4918 - val_loss: 1.5959 - val_acc: 0.4320\n",
            "Epoch 238/300\n",
            "50000/50000 [==============================] - 3s 65us/step - loss: 1.4068 - acc: 0.4947 - val_loss: 1.5809 - val_acc: 0.4395\n",
            "Epoch 239/300\n",
            "50000/50000 [==============================] - 3s 66us/step - loss: 1.4095 - acc: 0.4914 - val_loss: 1.6382 - val_acc: 0.4271\n",
            "Epoch 240/300\n",
            "50000/50000 [==============================] - 3s 66us/step - loss: 1.4096 - acc: 0.4929 - val_loss: 1.5773 - val_acc: 0.4368\n",
            "Epoch 241/300\n",
            "50000/50000 [==============================] - 3s 65us/step - loss: 1.4074 - acc: 0.4927 - val_loss: 1.5778 - val_acc: 0.4392\n",
            "Epoch 242/300\n",
            "50000/50000 [==============================] - 3s 66us/step - loss: 1.4131 - acc: 0.4924 - val_loss: 1.5738 - val_acc: 0.4393\n",
            "Epoch 243/300\n",
            "50000/50000 [==============================] - 3s 65us/step - loss: 1.4079 - acc: 0.4933 - val_loss: 1.5790 - val_acc: 0.4386\n",
            "Epoch 244/300\n",
            "50000/50000 [==============================] - 3s 66us/step - loss: 1.4122 - acc: 0.4941 - val_loss: 1.5995 - val_acc: 0.4336\n",
            "Epoch 245/300\n",
            "50000/50000 [==============================] - 3s 66us/step - loss: 1.4121 - acc: 0.4940 - val_loss: 1.5722 - val_acc: 0.4410\n",
            "Epoch 246/300\n",
            "50000/50000 [==============================] - 3s 65us/step - loss: 1.4038 - acc: 0.4938 - val_loss: 1.5824 - val_acc: 0.4371\n",
            "Epoch 247/300\n",
            "50000/50000 [==============================] - 3s 66us/step - loss: 1.4069 - acc: 0.4930 - val_loss: 1.5757 - val_acc: 0.4388\n",
            "Epoch 248/300\n",
            "50000/50000 [==============================] - 3s 66us/step - loss: 1.4070 - acc: 0.4938 - val_loss: 1.5851 - val_acc: 0.4376\n",
            "Epoch 249/300\n",
            "50000/50000 [==============================] - 3s 65us/step - loss: 1.4107 - acc: 0.4928 - val_loss: 1.6311 - val_acc: 0.4212\n",
            "Epoch 250/300\n",
            "50000/50000 [==============================] - 3s 65us/step - loss: 1.4085 - acc: 0.4949 - val_loss: 1.5740 - val_acc: 0.4418\n",
            "Epoch 251/300\n",
            "50000/50000 [==============================] - 3s 65us/step - loss: 1.4068 - acc: 0.4947 - val_loss: 1.5911 - val_acc: 0.4366\n",
            "Epoch 252/300\n",
            "50000/50000 [==============================] - 3s 65us/step - loss: 1.4074 - acc: 0.4955 - val_loss: 1.5812 - val_acc: 0.4396\n",
            "Epoch 253/300\n",
            "50000/50000 [==============================] - 3s 65us/step - loss: 1.4071 - acc: 0.4919 - val_loss: 1.5757 - val_acc: 0.4365\n",
            "Epoch 254/300\n",
            "50000/50000 [==============================] - 3s 65us/step - loss: 1.4034 - acc: 0.4944 - val_loss: 1.6198 - val_acc: 0.4321\n",
            "Epoch 255/300\n",
            "50000/50000 [==============================] - 3s 65us/step - loss: 1.4105 - acc: 0.4927 - val_loss: 1.5734 - val_acc: 0.4405\n",
            "Epoch 256/300\n",
            "50000/50000 [==============================] - 3s 66us/step - loss: 1.4053 - acc: 0.4917 - val_loss: 1.5836 - val_acc: 0.4374\n",
            "Epoch 257/300\n",
            "50000/50000 [==============================] - 3s 66us/step - loss: 1.4100 - acc: 0.4916 - val_loss: 1.5749 - val_acc: 0.4387\n",
            "Epoch 258/300\n",
            "50000/50000 [==============================] - 3s 66us/step - loss: 1.4044 - acc: 0.4920 - val_loss: 1.5734 - val_acc: 0.4404\n",
            "Epoch 259/300\n",
            "50000/50000 [==============================] - 3s 65us/step - loss: 1.4011 - acc: 0.4954 - val_loss: 1.5888 - val_acc: 0.4336\n",
            "Epoch 260/300\n",
            "50000/50000 [==============================] - 3s 65us/step - loss: 1.4022 - acc: 0.4946 - val_loss: 1.6032 - val_acc: 0.4298\n",
            "Epoch 261/300\n",
            "50000/50000 [==============================] - 3s 65us/step - loss: 1.4060 - acc: 0.4923 - val_loss: 1.5873 - val_acc: 0.4353\n",
            "Epoch 262/300\n",
            "50000/50000 [==============================] - 3s 66us/step - loss: 1.4055 - acc: 0.4944 - val_loss: 1.5918 - val_acc: 0.4356\n",
            "Epoch 263/300\n",
            "50000/50000 [==============================] - 3s 66us/step - loss: 1.4089 - acc: 0.4918 - val_loss: 1.5981 - val_acc: 0.4325\n",
            "Epoch 264/300\n",
            "50000/50000 [==============================] - 3s 65us/step - loss: 1.4012 - acc: 0.4976 - val_loss: 1.5891 - val_acc: 0.4397\n",
            "Epoch 265/300\n",
            "50000/50000 [==============================] - 3s 66us/step - loss: 1.4019 - acc: 0.4961 - val_loss: 1.5841 - val_acc: 0.4340\n",
            "Epoch 266/300\n",
            "50000/50000 [==============================] - 3s 65us/step - loss: 1.4055 - acc: 0.4941 - val_loss: 1.5813 - val_acc: 0.4371\n",
            "Epoch 267/300\n",
            "50000/50000 [==============================] - 3s 66us/step - loss: 1.4060 - acc: 0.4926 - val_loss: 1.5852 - val_acc: 0.4355\n",
            "Epoch 268/300\n",
            "50000/50000 [==============================] - 3s 66us/step - loss: 1.4092 - acc: 0.4922 - val_loss: 1.5845 - val_acc: 0.4360\n",
            "Epoch 269/300\n",
            "50000/50000 [==============================] - 3s 66us/step - loss: 1.4016 - acc: 0.4937 - val_loss: 1.5915 - val_acc: 0.4408\n",
            "Epoch 270/300\n",
            "50000/50000 [==============================] - 3s 66us/step - loss: 1.4053 - acc: 0.4958 - val_loss: 1.5995 - val_acc: 0.4311\n",
            "Epoch 271/300\n",
            "50000/50000 [==============================] - 3s 65us/step - loss: 1.4036 - acc: 0.4940 - val_loss: 1.5858 - val_acc: 0.4352\n",
            "Epoch 272/300\n",
            "50000/50000 [==============================] - 3s 65us/step - loss: 1.4054 - acc: 0.4946 - val_loss: 1.5871 - val_acc: 0.4389\n",
            "Epoch 273/300\n",
            "50000/50000 [==============================] - 3s 66us/step - loss: 1.4034 - acc: 0.4957 - val_loss: 1.5840 - val_acc: 0.4388\n",
            "Epoch 274/300\n",
            "50000/50000 [==============================] - 3s 65us/step - loss: 1.4010 - acc: 0.4956 - val_loss: 1.5942 - val_acc: 0.4383\n",
            "Epoch 275/300\n",
            "50000/50000 [==============================] - 3s 66us/step - loss: 1.4057 - acc: 0.4946 - val_loss: 1.5801 - val_acc: 0.4388\n",
            "Epoch 276/300\n",
            "50000/50000 [==============================] - 3s 66us/step - loss: 1.4007 - acc: 0.4970 - val_loss: 1.5832 - val_acc: 0.4411\n",
            "Epoch 277/300\n",
            "50000/50000 [==============================] - 3s 66us/step - loss: 1.4022 - acc: 0.4928 - val_loss: 1.5923 - val_acc: 0.4336\n",
            "Epoch 278/300\n",
            "50000/50000 [==============================] - 3s 65us/step - loss: 1.4057 - acc: 0.4930 - val_loss: 1.5901 - val_acc: 0.4348\n",
            "Epoch 279/300\n",
            "50000/50000 [==============================] - 3s 66us/step - loss: 1.4043 - acc: 0.4939 - val_loss: 1.5906 - val_acc: 0.4353\n",
            "Epoch 280/300\n",
            "50000/50000 [==============================] - 3s 66us/step - loss: 1.3985 - acc: 0.4957 - val_loss: 1.5759 - val_acc: 0.4397\n",
            "Epoch 281/300\n",
            "50000/50000 [==============================] - 3s 67us/step - loss: 1.4057 - acc: 0.4932 - val_loss: 1.5894 - val_acc: 0.4389\n",
            "Epoch 282/300\n",
            "50000/50000 [==============================] - 3s 65us/step - loss: 1.4060 - acc: 0.4931 - val_loss: 1.5910 - val_acc: 0.4381\n",
            "Epoch 283/300\n",
            "50000/50000 [==============================] - 3s 65us/step - loss: 1.4037 - acc: 0.4959 - val_loss: 1.5924 - val_acc: 0.4365\n",
            "Epoch 284/300\n",
            "50000/50000 [==============================] - 3s 65us/step - loss: 1.4013 - acc: 0.4955 - val_loss: 1.5992 - val_acc: 0.4365\n",
            "Epoch 285/300\n",
            "50000/50000 [==============================] - 3s 65us/step - loss: 1.4033 - acc: 0.4948 - val_loss: 1.5924 - val_acc: 0.4346\n",
            "Epoch 286/300\n",
            "50000/50000 [==============================] - 3s 65us/step - loss: 1.4004 - acc: 0.4962 - val_loss: 1.6138 - val_acc: 0.4278\n",
            "Epoch 287/300\n",
            "50000/50000 [==============================] - 3s 65us/step - loss: 1.4029 - acc: 0.4950 - val_loss: 1.6151 - val_acc: 0.4268\n",
            "Epoch 288/300\n",
            "50000/50000 [==============================] - 3s 65us/step - loss: 1.4093 - acc: 0.4911 - val_loss: 1.5861 - val_acc: 0.4371\n",
            "Epoch 289/300\n",
            "50000/50000 [==============================] - 3s 65us/step - loss: 1.3998 - acc: 0.4957 - val_loss: 1.5774 - val_acc: 0.4413\n",
            "Epoch 290/300\n",
            "50000/50000 [==============================] - 3s 65us/step - loss: 1.4046 - acc: 0.4932 - val_loss: 1.5761 - val_acc: 0.4399\n",
            "Epoch 291/300\n",
            "50000/50000 [==============================] - 3s 65us/step - loss: 1.3998 - acc: 0.4955 - val_loss: 1.5875 - val_acc: 0.4397\n",
            "Epoch 292/300\n",
            "50000/50000 [==============================] - 3s 65us/step - loss: 1.3996 - acc: 0.4959 - val_loss: 1.5985 - val_acc: 0.4380\n",
            "Epoch 293/300\n",
            "50000/50000 [==============================] - 3s 65us/step - loss: 1.3995 - acc: 0.4966 - val_loss: 1.6243 - val_acc: 0.4260\n",
            "Epoch 294/300\n",
            "50000/50000 [==============================] - 3s 66us/step - loss: 1.4027 - acc: 0.4965 - val_loss: 1.6009 - val_acc: 0.4373\n",
            "Epoch 295/300\n",
            "50000/50000 [==============================] - 3s 65us/step - loss: 1.4024 - acc: 0.4939 - val_loss: 1.6097 - val_acc: 0.4363\n",
            "Epoch 296/300\n",
            "50000/50000 [==============================] - 3s 66us/step - loss: 1.4015 - acc: 0.4947 - val_loss: 1.5881 - val_acc: 0.4385\n",
            "Epoch 297/300\n",
            "50000/50000 [==============================] - 3s 66us/step - loss: 1.3995 - acc: 0.4961 - val_loss: 1.6001 - val_acc: 0.4327\n",
            "Epoch 298/300\n",
            "50000/50000 [==============================] - 3s 65us/step - loss: 1.4005 - acc: 0.4957 - val_loss: 1.6001 - val_acc: 0.4338\n",
            "Epoch 299/300\n",
            "50000/50000 [==============================] - 3s 65us/step - loss: 1.4045 - acc: 0.4942 - val_loss: 1.5884 - val_acc: 0.4382\n",
            "Epoch 300/300\n",
            "50000/50000 [==============================] - 3s 66us/step - loss: 1.4007 - acc: 0.4961 - val_loss: 1.5811 - val_acc: 0.4361\n"
          ],
          "name": "stdout"
        }
      ]
    },
    {
      "metadata": {
        "id": "KuWA25MTjK_1",
        "colab_type": "code",
        "colab": {}
      },
      "cell_type": "code",
      "source": [
        "a = model.predict(X_test)"
      ],
      "execution_count": 0,
      "outputs": []
    },
    {
      "metadata": {
        "id": "lhZB6ac_k14f",
        "colab_type": "text"
      },
      "cell_type": "markdown",
      "source": [
        ""
      ]
    },
    {
      "metadata": {
        "id": "NLjYnUsKkEmT",
        "colab_type": "code",
        "outputId": "48abba03-c95e-4de4-e6e3-ef3c8611e41c",
        "colab": {
          "base_uri": "https://localhost:8080/",
          "height": 68
        }
      },
      "cell_type": "code",
      "source": [
        "a.mean(axis=0)"
      ],
      "execution_count": 16,
      "outputs": [
        {
          "output_type": "execute_result",
          "data": {
            "text/plain": [
              "array([0.09469073, 0.11405851, 0.09156574, 0.10368641, 0.07537307,\n",
              "       0.10907856, 0.08260404, 0.10579672, 0.11079076, 0.11235624],\n",
              "      dtype=float32)"
            ]
          },
          "metadata": {
            "tags": []
          },
          "execution_count": 16
        }
      ]
    },
    {
      "metadata": {
        "id": "zjjwKyQZk8Z9",
        "colab_type": "code",
        "colab": {}
      },
      "cell_type": "code",
      "source": [
        ""
      ],
      "execution_count": 0,
      "outputs": []
    }
  ]
}
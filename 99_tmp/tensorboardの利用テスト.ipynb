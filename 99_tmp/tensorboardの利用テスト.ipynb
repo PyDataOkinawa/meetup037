{
  "nbformat": 4,
  "nbformat_minor": 0,
  "metadata": {
    "colab": {
      "name": "tensorboardの利用テスト.ipynb",
      "version": "0.3.2",
      "provenance": [],
      "collapsed_sections": [],
      "include_colab_link": true
    },
    "kernelspec": {
      "name": "python3",
      "display_name": "Python 3"
    },
    "accelerator": "GPU"
  },
  "cells": [
    {
      "cell_type": "markdown",
      "metadata": {
        "id": "view-in-github",
        "colab_type": "text"
      },
      "source": [
        "<a href=\"https://colab.research.google.com/github/Aipakazuma/meetup037/blob/master/tensorboard%E3%81%AE%E5%88%A9%E7%94%A8%E3%83%86%E3%82%B9%E3%83%88.ipynb\" target=\"_parent\"><img src=\"https://colab.research.google.com/assets/colab-badge.svg\" alt=\"Open In Colab\"/></a>"
      ]
    },
    {
      "metadata": {
        "id": "WEoNWUCw7mVQ",
        "colab_type": "text"
      },
      "cell_type": "markdown",
      "source": [
        "# Tensorboardの利用テスト"
      ]
    },
    {
      "metadata": {
        "id": "7KbI8r226owJ",
        "colab_type": "code",
        "colab": {
          "base_uri": "https://localhost:8080/",
          "height": 34
        },
        "outputId": "fc6c2c5c-d115-4ddd-ce31-36af369f26e5"
      },
      "cell_type": "code",
      "source": [
        "from keras.datasets import cifar10\n",
        "from keras.models import Sequential\n",
        "from keras.layers import Dense, Flatten, Activation\n",
        "from keras.utils import np_utils\n",
        "\n",
        "\n",
        "import numpy as np\n",
        "import pandas as pd\n",
        "import matplotlib.pyplot as plt"
      ],
      "execution_count": 1,
      "outputs": [
        {
          "output_type": "stream",
          "text": [
            "Using TensorFlow backend.\n"
          ],
          "name": "stderr"
        }
      ]
    },
    {
      "metadata": {
        "id": "dhDxiunr_hA-",
        "colab_type": "text"
      },
      "cell_type": "markdown",
      "source": [
        "# tensorboardを使う準備"
      ]
    },
    {
      "metadata": {
        "id": "rtJw3hDs_jbX",
        "colab_type": "text"
      },
      "cell_type": "markdown",
      "source": [
        "`localtunnel` というコマンドを使ってトンネルを作る"
      ]
    },
    {
      "metadata": {
        "id": "2Tlpfnwu-DXt",
        "colab_type": "code",
        "colab": {
          "base_uri": "https://localhost:8080/",
          "height": 68
        },
        "outputId": "5f634d10-f3e9-405b-b754-f81046dc3bab"
      },
      "cell_type": "code",
      "source": [
        "!npm install -g localtunnel"
      ],
      "execution_count": 15,
      "outputs": [
        {
          "output_type": "stream",
          "text": [
            "\u001b[K\u001b[?25h/tools/node/bin/lt -> /tools/node/lib/node_modules/localtunnel/bin/client\n",
            "\u001b[K\u001b[?25h+ localtunnel@1.9.1\n",
            "added 54 packages from 32 contributors in 2.635s\n"
          ],
          "name": "stdout"
        }
      ]
    },
    {
      "metadata": {
        "id": "GKIJqF1U-bVT",
        "colab_type": "code",
        "colab": {}
      },
      "cell_type": "code",
      "source": [
        "log_dir = './logs/'"
      ],
      "execution_count": 0,
      "outputs": []
    },
    {
      "metadata": {
        "id": "XT8Ef4ZY-V4Y",
        "colab_type": "code",
        "colab": {}
      },
      "cell_type": "code",
      "source": [
        "get_ipython().system_raw(\n",
        "    'tensorboard --logdir {} --host 0.0.0.0 --port 6006 &'\n",
        "    .format(log_dir)\n",
        ")\n",
        "get_ipython().system_raw('lt --port 6006 >> url.txt 2>&1 &')"
      ],
      "execution_count": 0,
      "outputs": []
    },
    {
      "metadata": {
        "id": "meWoA8tN-gqn",
        "colab_type": "code",
        "colab": {
          "base_uri": "https://localhost:8080/",
          "height": 34
        },
        "outputId": "65d63ed0-77a5-4640-8095-709f2e81d6ae"
      },
      "cell_type": "code",
      "source": [
        "!cat url.txt"
      ],
      "execution_count": 19,
      "outputs": [
        {
          "output_type": "stream",
          "text": [
            "your url is: https://hot-eel-51.localtunnel.me\n"
          ],
          "name": "stdout"
        }
      ]
    },
    {
      "metadata": {
        "id": "DTLxLxru_dyj",
        "colab_type": "text"
      },
      "cell_type": "markdown",
      "source": [
        "便利だ！"
      ]
    },
    {
      "metadata": {
        "id": "VPqS--dv7hTV",
        "colab_type": "text"
      },
      "cell_type": "markdown",
      "source": [
        "# データダウンロード"
      ]
    },
    {
      "metadata": {
        "id": "fhSpIzUb7eRf",
        "colab_type": "code",
        "colab": {
          "base_uri": "https://localhost:8080/",
          "height": 51
        },
        "outputId": "109c343e-94b6-497f-a60a-c9f687687ea6"
      },
      "cell_type": "code",
      "source": [
        "(X_train, y_train), (X_test, y_test) = cifar10.load_data()"
      ],
      "execution_count": 2,
      "outputs": [
        {
          "output_type": "stream",
          "text": [
            "Downloading data from https://www.cs.toronto.edu/~kriz/cifar-10-python.tar.gz\n",
            "170500096/170498071 [==============================] - 23s 0us/step\n"
          ],
          "name": "stdout"
        }
      ]
    },
    {
      "metadata": {
        "id": "SccQnaJm7jGw",
        "colab_type": "text"
      },
      "cell_type": "markdown",
      "source": [
        "# 前処理"
      ]
    },
    {
      "metadata": {
        "id": "rP7SPoJI7caP",
        "colab_type": "code",
        "colab": {}
      },
      "cell_type": "code",
      "source": [
        "# 画像を0-1の範囲で正規化\n",
        "X_train = X_train.astype('float32') / 255.0\n",
        "X_test = X_test.astype('float32') / 255.0\n",
        "\n",
        "# 正解ラベルをOne-Hot表現に変換\n",
        "y_train = np_utils.to_categorical(y_train, 10)\n",
        "y_test = np_utils.to_categorical(y_test, 10)"
      ],
      "execution_count": 0,
      "outputs": []
    },
    {
      "metadata": {
        "id": "HsOsZ5pe7kJG",
        "colab_type": "text"
      },
      "cell_type": "markdown",
      "source": [
        "# モデル構築"
      ]
    },
    {
      "metadata": {
        "id": "zrJNH-Ym61PM",
        "colab_type": "code",
        "colab": {}
      },
      "cell_type": "code",
      "source": [
        "model = Sequential()\n",
        "model.add(Flatten(input_shape=(32, 32, 3)))\n",
        "model.add(Dense(32))\n",
        "model.add(Activation('relu'))\n",
        "\n",
        "model.add(Dense(32))\n",
        "model.add(Activation('relu'))\n",
        "\n",
        "model.add(Dense(10))\n",
        "model.add(Activation('softmax'))\n",
        "\n",
        "model.compile(optimizer='adam',loss='categorical_crossentropy', metrics=['accuracy'])"
      ],
      "execution_count": 0,
      "outputs": []
    },
    {
      "metadata": {
        "id": "RS0FT4FU8b23",
        "colab_type": "text"
      },
      "cell_type": "markdown",
      "source": [
        "# モデル学習"
      ]
    },
    {
      "metadata": {
        "id": "-fv4futw7aTS",
        "colab_type": "code",
        "colab": {
          "base_uri": "https://localhost:8080/",
          "height": 748
        },
        "outputId": "4b0e9a48-3086-4c7a-8668-0003f290895e"
      },
      "cell_type": "code",
      "source": [
        "history = model.fit(X_train, y_train, batch_size=128, nb_epoch=20, verbose=1,validation_split=0.1)"
      ],
      "execution_count": 5,
      "outputs": [
        {
          "output_type": "stream",
          "text": [
            "/usr/local/lib/python3.6/dist-packages/ipykernel_launcher.py:1: UserWarning: The `nb_epoch` argument in `fit` has been renamed `epochs`.\n",
            "  \"\"\"Entry point for launching an IPython kernel.\n"
          ],
          "name": "stderr"
        },
        {
          "output_type": "stream",
          "text": [
            "Train on 45000 samples, validate on 5000 samples\n",
            "Epoch 1/20\n",
            "45000/45000 [==============================] - 5s 105us/step - loss: 2.0145 - acc: 0.2560 - val_loss: 1.9149 - val_acc: 0.2974\n",
            "Epoch 2/20\n",
            "45000/45000 [==============================] - 3s 58us/step - loss: 1.8797 - acc: 0.3068 - val_loss: 1.8935 - val_acc: 0.3032\n",
            "Epoch 3/20\n",
            "45000/45000 [==============================] - 3s 58us/step - loss: 1.8460 - acc: 0.3228 - val_loss: 1.8505 - val_acc: 0.3274\n",
            "Epoch 4/20\n",
            "45000/45000 [==============================] - 3s 58us/step - loss: 1.8225 - acc: 0.3338 - val_loss: 1.8693 - val_acc: 0.3176\n",
            "Epoch 5/20\n",
            "45000/45000 [==============================] - 3s 58us/step - loss: 1.8106 - acc: 0.3377 - val_loss: 1.8318 - val_acc: 0.3306\n",
            "Epoch 6/20\n",
            "45000/45000 [==============================] - 3s 59us/step - loss: 1.8019 - acc: 0.3434 - val_loss: 1.8423 - val_acc: 0.3208\n",
            "Epoch 7/20\n",
            "45000/45000 [==============================] - 3s 58us/step - loss: 1.7911 - acc: 0.3463 - val_loss: 1.8113 - val_acc: 0.3382\n",
            "Epoch 8/20\n",
            "45000/45000 [==============================] - 3s 59us/step - loss: 1.7843 - acc: 0.3493 - val_loss: 1.7990 - val_acc: 0.3458\n",
            "Epoch 9/20\n",
            "45000/45000 [==============================] - 3s 59us/step - loss: 1.7799 - acc: 0.3516 - val_loss: 1.8012 - val_acc: 0.3446\n",
            "Epoch 10/20\n",
            "45000/45000 [==============================] - 3s 59us/step - loss: 1.7718 - acc: 0.3537 - val_loss: 1.7827 - val_acc: 0.3462\n",
            "Epoch 11/20\n",
            "45000/45000 [==============================] - 3s 58us/step - loss: 1.7742 - acc: 0.3531 - val_loss: 1.7883 - val_acc: 0.3484\n",
            "Epoch 12/20\n",
            "45000/45000 [==============================] - 3s 58us/step - loss: 1.7685 - acc: 0.3570 - val_loss: 1.7804 - val_acc: 0.3456\n",
            "Epoch 13/20\n",
            "45000/45000 [==============================] - 3s 58us/step - loss: 1.7655 - acc: 0.3588 - val_loss: 1.7818 - val_acc: 0.3518\n",
            "Epoch 14/20\n",
            "45000/45000 [==============================] - 3s 58us/step - loss: 1.7632 - acc: 0.3580 - val_loss: 1.7823 - val_acc: 0.3476\n",
            "Epoch 15/20\n",
            "45000/45000 [==============================] - 3s 58us/step - loss: 1.7575 - acc: 0.3601 - val_loss: 1.7865 - val_acc: 0.3486\n",
            "Epoch 16/20\n",
            "45000/45000 [==============================] - 3s 58us/step - loss: 1.7549 - acc: 0.3612 - val_loss: 1.7881 - val_acc: 0.3464\n",
            "Epoch 17/20\n",
            "45000/45000 [==============================] - 3s 58us/step - loss: 1.7515 - acc: 0.3618 - val_loss: 1.8022 - val_acc: 0.3356\n",
            "Epoch 18/20\n",
            "45000/45000 [==============================] - 3s 58us/step - loss: 1.7487 - acc: 0.3633 - val_loss: 1.8027 - val_acc: 0.3402\n",
            "Epoch 19/20\n",
            "45000/45000 [==============================] - 3s 58us/step - loss: 1.7458 - acc: 0.3645 - val_loss: 1.7865 - val_acc: 0.3472\n",
            "Epoch 20/20\n",
            "45000/45000 [==============================] - 3s 58us/step - loss: 1.7483 - acc: 0.3649 - val_loss: 1.7857 - val_acc: 0.3490\n"
          ],
          "name": "stdout"
        }
      ]
    },
    {
      "metadata": {
        "id": "s_PKpdxE7zi6",
        "colab_type": "code",
        "colab": {
          "base_uri": "https://localhost:8080/",
          "height": 707
        },
        "outputId": "dd6ee14a-def1-4353-f9cc-335806920f38"
      },
      "cell_type": "code",
      "source": [
        "epochs = 20\n",
        "x = range(epochs)\n",
        "plt.plot(x, history.history['acc'], label='acc', color='r')\n",
        "plt.plot(x, history.history['val_acc'], label='val_acc', color='b')\n",
        "plt.ylim(0.0, 1.0)\n",
        "plt.title('accuracy')\n",
        "plt.legend(loc='center left', bbox_to_anchor=(1, 0.5))\n",
        "plt.show()\n",
        "\n",
        "plt.plot(x, history.history['loss'], label='loss', color='r')\n",
        "plt.plot(x, history.history['val_loss'], label='val_loss', color='b')\n",
        "plt.title('loss')\n",
        "plt.ylim(0.0, 2.0)\n",
        "plt.legend(loc='center left', bbox_to_anchor=(1, 0.5))\n",
        "plt.show()"
      ],
      "execution_count": 6,
      "outputs": [
        {
          "output_type": "display_data",
          "data": {
            "image/png": "[encoded data removed]",
            "text/plain": [
              "<matplotlib.figure.Figure at 0x7fbf28899f60>"
            ]
          },
          "metadata": {
            "tags": []
          }
        },
        {
          "output_type": "display_data",
          "data": {
            "image/png": "[encoded data removed]",
            "text/plain": [
              "<matplotlib.figure.Figure at 0x7fbf28027278>"
            ]
          },
          "metadata": {
            "tags": []
          }
        }
      ]
    },
    {
      "metadata": {
        "id": "1UZrbaYT8mso",
        "colab_type": "text"
      },
      "cell_type": "markdown",
      "source": [
        "# callbackでtensorboardを読み出す"
      ]
    },
    {
      "metadata": {
        "id": "hgAfw6DJ8ea6",
        "colab_type": "code",
        "colab": {}
      },
      "cell_type": "code",
      "source": [
        "from keras.callbacks import TensorBoard"
      ],
      "execution_count": 0,
      "outputs": []
    },
    {
      "metadata": {
        "id": "e7uNJgWG8vEn",
        "colab_type": "code",
        "colab": {}
      },
      "cell_type": "code",
      "source": [
        "tensorboard = TensorBoard(log_dir=log_dir)\n",
        "callbacks = [tensorboard]"
      ],
      "execution_count": 0,
      "outputs": []
    },
    {
      "metadata": {
        "id": "HneQS_7M9Fu-",
        "colab_type": "code",
        "colab": {}
      },
      "cell_type": "code",
      "source": [
        "model = Sequential()\n",
        "model.add(Flatten(input_shape=(32, 32, 3)))\n",
        "model.add(Dense(32))\n",
        "model.add(Activation('relu'))\n",
        "\n",
        "model.add(Dense(32))\n",
        "model.add(Activation('relu'))\n",
        "\n",
        "model.add(Dense(10))\n",
        "model.add(Activation('softmax'))\n",
        "\n",
        "model.compile(optimizer='adam',loss='categorical_crossentropy', metrics=['accuracy'])"
      ],
      "execution_count": 0,
      "outputs": []
    },
    {
      "metadata": {
        "id": "Xy7SPgMr8wrh",
        "colab_type": "code",
        "colab": {
          "base_uri": "https://localhost:8080/",
          "height": 1717
        },
        "outputId": "c242c533-aaa2-4023-b298-13ab8883e915"
      },
      "cell_type": "code",
      "source": [
        "epochs = 50\n",
        "try:\n",
        "    history = model.fit(X_train, y_train, epochs=epochs, callbacks=callbacks)\n",
        "except KeyboardInterrupt:\n",
        "    tensorboard.writer.close()"
      ],
      "execution_count": 22,
      "outputs": [
        {
          "output_type": "stream",
          "text": [
            "Epoch 1/50\n",
            "50000/50000 [==============================] - 10s 194us/step - loss: 1.9987 - acc: 0.2430\n",
            "Epoch 2/50\n",
            "50000/50000 [==============================] - 9s 185us/step - loss: 1.9056 - acc: 0.2896\n",
            "Epoch 3/50\n",
            "50000/50000 [==============================] - 9s 185us/step - loss: 1.8808 - acc: 0.3051\n",
            "Epoch 4/50\n",
            "50000/50000 [==============================] - 9s 184us/step - loss: 1.8578 - acc: 0.3151\n",
            "Epoch 5/50\n",
            "50000/50000 [==============================] - 9s 188us/step - loss: 1.8504 - acc: 0.3179\n",
            "Epoch 6/50\n",
            "50000/50000 [==============================] - 9s 186us/step - loss: 1.8393 - acc: 0.3217\n",
            "Epoch 7/50\n",
            "50000/50000 [==============================] - 9s 186us/step - loss: 1.8277 - acc: 0.3268\n",
            "Epoch 8/50\n",
            "50000/50000 [==============================] - 9s 185us/step - loss: 1.8220 - acc: 0.3299\n",
            "Epoch 9/50\n",
            "50000/50000 [==============================] - 9s 188us/step - loss: 1.8185 - acc: 0.3320\n",
            "Epoch 10/50\n",
            "50000/50000 [==============================] - 9s 186us/step - loss: 1.8146 - acc: 0.3342\n",
            "Epoch 11/50\n",
            "50000/50000 [==============================] - 9s 186us/step - loss: 1.8118 - acc: 0.3354\n",
            "Epoch 12/50\n",
            "50000/50000 [==============================] - 9s 184us/step - loss: 1.8096 - acc: 0.3366\n",
            "Epoch 13/50\n",
            "50000/50000 [==============================] - 9s 185us/step - loss: 1.8038 - acc: 0.3367\n",
            "Epoch 14/50\n",
            "50000/50000 [==============================] - 9s 184us/step - loss: 1.8038 - acc: 0.3361\n",
            "Epoch 15/50\n",
            "50000/50000 [==============================] - 9s 184us/step - loss: 1.8012 - acc: 0.3398\n",
            "Epoch 16/50\n",
            "50000/50000 [==============================] - 9s 185us/step - loss: 1.7999 - acc: 0.3394\n",
            "Epoch 17/50\n",
            "50000/50000 [==============================] - 9s 185us/step - loss: 1.7967 - acc: 0.3407\n",
            "Epoch 18/50\n",
            "50000/50000 [==============================] - 10s 192us/step - loss: 1.7955 - acc: 0.3408\n",
            "Epoch 19/50\n",
            "50000/50000 [==============================] - 9s 185us/step - loss: 1.7972 - acc: 0.3396\n",
            "Epoch 20/50\n",
            "50000/50000 [==============================] - 9s 185us/step - loss: 1.7948 - acc: 0.3408\n",
            "Epoch 21/50\n",
            "50000/50000 [==============================] - 9s 185us/step - loss: 1.7921 - acc: 0.3428\n",
            "Epoch 22/50\n",
            "50000/50000 [==============================] - 9s 185us/step - loss: 1.7908 - acc: 0.3429\n",
            "Epoch 23/50\n",
            "50000/50000 [==============================] - 9s 185us/step - loss: 1.7871 - acc: 0.3452\n",
            "Epoch 24/50\n",
            "50000/50000 [==============================] - 9s 186us/step - loss: 1.7884 - acc: 0.3439\n",
            "Epoch 25/50\n",
            "50000/50000 [==============================] - 9s 185us/step - loss: 1.7888 - acc: 0.3444\n",
            "Epoch 26/50\n",
            "50000/50000 [==============================] - 9s 185us/step - loss: 1.7880 - acc: 0.3450\n",
            "Epoch 27/50\n",
            "50000/50000 [==============================] - 9s 184us/step - loss: 1.7890 - acc: 0.3443\n",
            "Epoch 28/50\n",
            "50000/50000 [==============================] - 9s 185us/step - loss: 1.7868 - acc: 0.3440\n",
            "Epoch 29/50\n",
            "50000/50000 [==============================] - 9s 185us/step - loss: 1.7878 - acc: 0.3426\n",
            "Epoch 30/50\n",
            "50000/50000 [==============================] - 9s 185us/step - loss: 1.7847 - acc: 0.3452\n",
            "Epoch 31/50\n",
            "50000/50000 [==============================] - 9s 185us/step - loss: 1.7841 - acc: 0.3449\n",
            "Epoch 32/50\n",
            "50000/50000 [==============================] - 9s 184us/step - loss: 1.7832 - acc: 0.3464\n",
            "Epoch 33/50\n",
            "50000/50000 [==============================] - 9s 184us/step - loss: 1.7849 - acc: 0.3449\n",
            "Epoch 34/50\n",
            "50000/50000 [==============================] - 10s 194us/step - loss: 1.7813 - acc: 0.3458\n",
            "Epoch 35/50\n",
            "50000/50000 [==============================] - 9s 186us/step - loss: 1.7793 - acc: 0.3438\n",
            "Epoch 36/50\n",
            "50000/50000 [==============================] - 9s 185us/step - loss: 1.7824 - acc: 0.3459\n",
            "Epoch 37/50\n",
            "50000/50000 [==============================] - 9s 186us/step - loss: 1.7804 - acc: 0.3454\n",
            "Epoch 38/50\n",
            "50000/50000 [==============================] - 9s 187us/step - loss: 1.7786 - acc: 0.3469\n",
            "Epoch 39/50\n",
            "50000/50000 [==============================] - 9s 183us/step - loss: 1.7781 - acc: 0.3482\n",
            "Epoch 40/50\n",
            "50000/50000 [==============================] - 9s 183us/step - loss: 1.7763 - acc: 0.3473\n",
            "Epoch 41/50\n",
            "50000/50000 [==============================] - 9s 184us/step - loss: 1.7776 - acc: 0.3479\n",
            "Epoch 42/50\n",
            "50000/50000 [==============================] - 9s 184us/step - loss: 1.7774 - acc: 0.3477\n",
            "Epoch 43/50\n",
            "50000/50000 [==============================] - 9s 183us/step - loss: 1.7783 - acc: 0.3486\n",
            "Epoch 44/50\n",
            "50000/50000 [==============================] - 9s 183us/step - loss: 1.7753 - acc: 0.3492\n",
            "Epoch 45/50\n",
            "50000/50000 [==============================] - 9s 184us/step - loss: 1.7753 - acc: 0.3475\n",
            "Epoch 46/50\n",
            "50000/50000 [==============================] - 9s 184us/step - loss: 1.7745 - acc: 0.3503\n",
            "Epoch 47/50\n",
            "50000/50000 [==============================] - 9s 183us/step - loss: 1.7745 - acc: 0.3494\n",
            "Epoch 48/50\n",
            "50000/50000 [==============================] - 9s 183us/step - loss: 1.7740 - acc: 0.3486\n",
            "Epoch 49/50\n",
            "50000/50000 [==============================] - 9s 184us/step - loss: 1.7728 - acc: 0.3501\n",
            "Epoch 50/50\n",
            "50000/50000 [==============================] - 9s 183us/step - loss: 1.7747 - acc: 0.3501\n"
          ],
          "name": "stdout"
        }
      ]
    },
    {
      "metadata": {
        "id": "pbN7hgH_LTht",
        "colab_type": "text"
      },
      "cell_type": "markdown",
      "source": [
        "動作させている間はTensorboardに動的に書き込みされる"
      ]
    },
    {
      "metadata": {
        "id": "AV6uipV8LY4I",
        "colab_type": "code",
        "colab": {}
      },
      "cell_type": "code",
      "source": [
        ""
      ],
      "execution_count": 0,
      "outputs": []
    }
  ]
}
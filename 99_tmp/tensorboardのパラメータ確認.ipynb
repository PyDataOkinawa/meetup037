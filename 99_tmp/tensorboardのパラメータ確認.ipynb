{
  "nbformat": 4,
  "nbformat_minor": 0,
  "metadata": {
    "colab": {
      "name": "tensorboardのパラメータ確認.ipynb",
      "version": "0.3.2",
      "provenance": [],
      "collapsed_sections": [],
      "include_colab_link": true
    },
    "kernelspec": {
      "name": "python3",
      "display_name": "Python 3"
    },
    "accelerator": "GPU"
  },
  "cells": [
    {
      "cell_type": "markdown",
      "metadata": {
        "id": "view-in-github",
        "colab_type": "text"
      },
      "source": [
        "<a href=\"https://colab.research.google.com/github/Aipakazuma/meetup037/blob/master/tensorboard%E3%81%AE%E3%83%91%E3%83%A9%E3%83%A1%E3%83%BC%E3%82%BF%E7%A2%BA%E8%AA%8D.ipynb\" target=\"_parent\"><img src=\"https://colab.research.google.com/assets/colab-badge.svg\" alt=\"Open In Colab\"/></a>"
      ]
    },
    {
      "metadata": {
        "id": "WEoNWUCw7mVQ",
        "colab_type": "text"
      },
      "cell_type": "markdown",
      "source": [
        "# Tensorboardのパラメータ確認\n",
        "\n",
        "* 画像とかhistogramとか出したい"
      ]
    },
    {
      "metadata": {
        "id": "7KbI8r226owJ",
        "colab_type": "code",
        "colab": {}
      },
      "cell_type": "code",
      "source": [
        "from keras.datasets import cifar10\n",
        "from keras.models import Sequential\n",
        "from keras.layers import Dense, Flatten, Activation\n",
        "from keras.utils import np_utils\n",
        "\n",
        "\n",
        "import numpy as np\n",
        "import pandas as pd\n",
        "import matplotlib.pyplot as plt"
      ],
      "execution_count": 0,
      "outputs": []
    },
    {
      "metadata": {
        "id": "dhDxiunr_hA-",
        "colab_type": "text"
      },
      "cell_type": "markdown",
      "source": [
        "# tensorboardを使う準備"
      ]
    },
    {
      "metadata": {
        "id": "rtJw3hDs_jbX",
        "colab_type": "text"
      },
      "cell_type": "markdown",
      "source": [
        "`localtunnel` というコマンドを使ってトンネルを作る"
      ]
    },
    {
      "metadata": {
        "id": "2Tlpfnwu-DXt",
        "colab_type": "code",
        "outputId": "5e55f717-15c2-4f2e-f3b3-148b35338c8c",
        "colab": {
          "base_uri": "https://localhost:8080/",
          "height": 68
        }
      },
      "cell_type": "code",
      "source": [
        "!npm install -g localtunnel"
      ],
      "execution_count": 0,
      "outputs": [
        {
          "output_type": "stream",
          "text": [
            "\u001b[K\u001b[?25h/tools/node/bin/lt -> /tools/node/lib/node_modules/localtunnel/bin/client\n",
            "+ localtunnel@1.9.1\n",
            "updated 1 package in 1.073s\n"
          ],
          "name": "stdout"
        }
      ]
    },
    {
      "metadata": {
        "id": "A6tdjGV0sdgw",
        "colab_type": "code",
        "colab": {}
      },
      "cell_type": "code",
      "source": [
        "!rm -rf ./logs/"
      ],
      "execution_count": 0,
      "outputs": []
    },
    {
      "metadata": {
        "id": "GKIJqF1U-bVT",
        "colab_type": "code",
        "colab": {}
      },
      "cell_type": "code",
      "source": [
        "log_dir = './logs/'"
      ],
      "execution_count": 0,
      "outputs": []
    },
    {
      "metadata": {
        "id": "XT8Ef4ZY-V4Y",
        "colab_type": "code",
        "colab": {}
      },
      "cell_type": "code",
      "source": [
        "get_ipython().system_raw(\n",
        "    'tensorboard --logdir {} --host 0.0.0.0 --port 6006 &'\n",
        "    .format(log_dir)\n",
        ")\n",
        "get_ipython().system_raw('lt --port 6006 > url.txt 2>&1 &')"
      ],
      "execution_count": 0,
      "outputs": []
    },
    {
      "metadata": {
        "id": "meWoA8tN-gqn",
        "colab_type": "code",
        "outputId": "07e3d972-1749-4c49-e5b5-e3f972ee51ba",
        "colab": {
          "base_uri": "https://localhost:8080/",
          "height": 34
        }
      },
      "cell_type": "code",
      "source": [
        "!cat url.txt"
      ],
      "execution_count": 0,
      "outputs": [
        {
          "output_type": "stream",
          "text": [
            "your url is: https://wet-dodo-95.localtunnel.me\n"
          ],
          "name": "stdout"
        }
      ]
    },
    {
      "metadata": {
        "id": "VPqS--dv7hTV",
        "colab_type": "text"
      },
      "cell_type": "markdown",
      "source": [
        "# データダウンロード"
      ]
    },
    {
      "metadata": {
        "id": "fhSpIzUb7eRf",
        "colab_type": "code",
        "colab": {}
      },
      "cell_type": "code",
      "source": [
        "(X_train, y_train), (X_test, y_test) = cifar10.load_data()"
      ],
      "execution_count": 0,
      "outputs": []
    },
    {
      "metadata": {
        "id": "SccQnaJm7jGw",
        "colab_type": "text"
      },
      "cell_type": "markdown",
      "source": [
        "# 前処理"
      ]
    },
    {
      "metadata": {
        "id": "rP7SPoJI7caP",
        "colab_type": "code",
        "colab": {}
      },
      "cell_type": "code",
      "source": [
        "# 画像を0-1の範囲で正規化\n",
        "X_train = X_train.astype('float32') / 255.0\n",
        "X_test = X_test.astype('float32') / 255.0\n",
        "\n",
        "# 正解ラベルをOne-Hot表現に変換\n",
        "y_train = np_utils.to_categorical(y_train, 10)\n",
        "y_test = np_utils.to_categorical(y_test, 10)"
      ],
      "execution_count": 0,
      "outputs": []
    },
    {
      "metadata": {
        "id": "HsOsZ5pe7kJG",
        "colab_type": "text"
      },
      "cell_type": "markdown",
      "source": [
        "# モデル構築"
      ]
    },
    {
      "metadata": {
        "id": "zrJNH-Ym61PM",
        "colab_type": "code",
        "colab": {}
      },
      "cell_type": "code",
      "source": [
        "model = Sequential()\n",
        "model.add(Flatten(input_shape=(32, 32, 3)))\n",
        "model.add(Dense(32))\n",
        "model.add(Activation('relu'))\n",
        "\n",
        "model.add(Dense(32))\n",
        "model.add(Activation('relu'))\n",
        "\n",
        "model.add(Dense(10))\n",
        "model.add(Activation('softmax'))\n",
        "\n",
        "model.compile(optimizer='adam',loss='categorical_crossentropy', metrics=['accuracy'])"
      ],
      "execution_count": 0,
      "outputs": []
    },
    {
      "metadata": {
        "id": "K0eq0n8LsKvo",
        "colab_type": "code",
        "outputId": "7edc880e-f48c-46f5-ff1b-4f0d359a1bfa",
        "colab": {
          "base_uri": "https://localhost:8080/",
          "height": 374
        }
      },
      "cell_type": "code",
      "source": [
        "model.summary()"
      ],
      "execution_count": 0,
      "outputs": [
        {
          "output_type": "stream",
          "text": [
            "_________________________________________________________________\n",
            "Layer (type)                 Output Shape              Param #   \n",
            "=================================================================\n",
            "flatten_1 (Flatten)          (None, 3072)              0         \n",
            "_________________________________________________________________\n",
            "dense_1 (Dense)              (None, 32)                98336     \n",
            "_________________________________________________________________\n",
            "activation_1 (Activation)    (None, 32)                0         \n",
            "_________________________________________________________________\n",
            "dense_2 (Dense)              (None, 32)                1056      \n",
            "_________________________________________________________________\n",
            "activation_2 (Activation)    (None, 32)                0         \n",
            "_________________________________________________________________\n",
            "dense_3 (Dense)              (None, 10)                330       \n",
            "_________________________________________________________________\n",
            "activation_3 (Activation)    (None, 10)                0         \n",
            "=================================================================\n",
            "Total params: 99,722\n",
            "Trainable params: 99,722\n",
            "Non-trainable params: 0\n",
            "_________________________________________________________________\n"
          ],
          "name": "stdout"
        }
      ]
    },
    {
      "metadata": {
        "id": "1UZrbaYT8mso",
        "colab_type": "text"
      },
      "cell_type": "markdown",
      "source": [
        "# callbackでtensorboardを読み出す"
      ]
    },
    {
      "metadata": {
        "id": "hgAfw6DJ8ea6",
        "colab_type": "code",
        "colab": {}
      },
      "cell_type": "code",
      "source": [
        "from keras.callbacks import TensorBoard"
      ],
      "execution_count": 0,
      "outputs": []
    },
    {
      "metadata": {
        "id": "VBHI2ZmHr4T9",
        "colab_type": "code",
        "colab": {}
      },
      "cell_type": "code",
      "source": [
        "batch_size = 128"
      ],
      "execution_count": 0,
      "outputs": []
    },
    {
      "metadata": {
        "id": "e7uNJgWG8vEn",
        "colab_type": "code",
        "colab": {}
      },
      "cell_type": "code",
      "source": [
        "tensorboard = TensorBoard(log_dir=log_dir,\n",
        "                          histogram_freq=True,  # histogramの出力. 各レイヤーの値の分布を表示(3次元)\n",
        "                          batch_size=batch_size,  # batch_sizeの指定\n",
        "                          write_grads=True,  # 各レイヤーの値の分布の表示(2次元)\n",
        "                          write_images=True,  # 各レイヤーの重み、バイアスを画像で表示\n",
        "                          embeddings_freq=False)\n",
        "callbacks = [tensorboard]"
      ],
      "execution_count": 0,
      "outputs": []
    },
    {
      "metadata": {
        "id": "RS0FT4FU8b23",
        "colab_type": "text"
      },
      "cell_type": "markdown",
      "source": [
        "# モデル学習"
      ]
    },
    {
      "metadata": {
        "id": "Xy7SPgMr8wrh",
        "colab_type": "code",
        "outputId": "9cf211eb-5e66-4fe4-b1ba-4de41d0d0a99",
        "colab": {
          "base_uri": "https://localhost:8080/",
          "height": 1734
        }
      },
      "cell_type": "code",
      "source": [
        "epochs = 50\n",
        "try:\n",
        "    history = model.fit(X_train, y_train, epochs=epochs, callbacks=callbacks, validation_data=(X_test, y_test))\n",
        "except KeyboardInterrupt:\n",
        "    tensorboard.writer.close()"
      ],
      "execution_count": 21,
      "outputs": [
        {
          "output_type": "stream",
          "text": [
            "Train on 50000 samples, validate on 10000 samples\n",
            "Epoch 1/50\n",
            "50000/50000 [==============================] - 13s 252us/step - loss: 1.9348 - acc: 0.2933 - val_loss: 1.8267 - val_acc: 0.3358\n",
            "Epoch 2/50\n",
            "50000/50000 [==============================] - 12s 249us/step - loss: 1.8164 - acc: 0.3434 - val_loss: 1.7790 - val_acc: 0.3607\n",
            "Epoch 3/50\n",
            "50000/50000 [==============================] - 12s 248us/step - loss: 1.7973 - acc: 0.3510 - val_loss: 1.7963 - val_acc: 0.3526\n",
            "Epoch 4/50\n",
            "50000/50000 [==============================] - 13s 251us/step - loss: 1.7744 - acc: 0.3609 - val_loss: 1.7577 - val_acc: 0.3644\n",
            "Epoch 5/50\n",
            "50000/50000 [==============================] - 12s 249us/step - loss: 1.7603 - acc: 0.3655 - val_loss: 1.7576 - val_acc: 0.3693\n",
            "Epoch 6/50\n",
            "50000/50000 [==============================] - 12s 245us/step - loss: 1.7527 - acc: 0.3690 - val_loss: 1.7570 - val_acc: 0.3671\n",
            "Epoch 7/50\n",
            "50000/50000 [==============================] - 12s 246us/step - loss: 1.7470 - acc: 0.3688 - val_loss: 1.7510 - val_acc: 0.3640\n",
            "Epoch 8/50\n",
            "50000/50000 [==============================] - 12s 241us/step - loss: 1.7316 - acc: 0.3734 - val_loss: 1.7354 - val_acc: 0.3734\n",
            "Epoch 9/50\n",
            "50000/50000 [==============================] - 12s 246us/step - loss: 1.7297 - acc: 0.3751 - val_loss: 1.7552 - val_acc: 0.3659\n",
            "Epoch 10/50\n",
            "50000/50000 [==============================] - 13s 255us/step - loss: 1.7247 - acc: 0.3758 - val_loss: 1.7256 - val_acc: 0.3768\n",
            "Epoch 11/50\n",
            "50000/50000 [==============================] - 14s 279us/step - loss: 1.7179 - acc: 0.3787 - val_loss: 1.7144 - val_acc: 0.3830\n",
            "Epoch 12/50\n",
            "50000/50000 [==============================] - 12s 249us/step - loss: 1.7133 - acc: 0.3797 - val_loss: 1.7623 - val_acc: 0.3635\n",
            "Epoch 13/50\n",
            "50000/50000 [==============================] - 13s 266us/step - loss: 1.7089 - acc: 0.3807 - val_loss: 1.7113 - val_acc: 0.3814\n",
            "Epoch 14/50\n",
            "50000/50000 [==============================] - 15s 304us/step - loss: 1.7068 - acc: 0.3808 - val_loss: 1.7300 - val_acc: 0.3718\n",
            "Epoch 15/50\n",
            "50000/50000 [==============================] - 14s 278us/step - loss: 1.7043 - acc: 0.3834 - val_loss: 1.7096 - val_acc: 0.3810\n",
            "Epoch 16/50\n",
            "50000/50000 [==============================] - 16s 318us/step - loss: 1.7036 - acc: 0.3836 - val_loss: 1.7253 - val_acc: 0.3761\n",
            "Epoch 17/50\n",
            "50000/50000 [==============================] - 16s 323us/step - loss: 1.6981 - acc: 0.3841 - val_loss: 1.6999 - val_acc: 0.3875\n",
            "Epoch 18/50\n",
            "50000/50000 [==============================] - 19s 389us/step - loss: 1.6941 - acc: 0.3879 - val_loss: 1.7498 - val_acc: 0.3668\n",
            "Epoch 19/50\n",
            "50000/50000 [==============================] - 17s 346us/step - loss: 1.6929 - acc: 0.3865 - val_loss: 1.7154 - val_acc: 0.3751\n",
            "Epoch 20/50\n",
            "50000/50000 [==============================] - 12s 241us/step - loss: 1.6907 - acc: 0.3875 - val_loss: 1.7405 - val_acc: 0.3710\n",
            "Epoch 21/50\n",
            "50000/50000 [==============================] - 12s 243us/step - loss: 1.6854 - acc: 0.3894 - val_loss: 1.7258 - val_acc: 0.3743\n",
            "Epoch 22/50\n",
            "50000/50000 [==============================] - 12s 247us/step - loss: 1.6881 - acc: 0.3877 - val_loss: 1.7082 - val_acc: 0.3745\n",
            "Epoch 23/50\n",
            "50000/50000 [==============================] - 12s 244us/step - loss: 1.6846 - acc: 0.3892 - val_loss: 1.7096 - val_acc: 0.3709\n",
            "Epoch 24/50\n",
            "50000/50000 [==============================] - 12s 240us/step - loss: 1.6789 - acc: 0.3906 - val_loss: 1.7137 - val_acc: 0.3737\n",
            "Epoch 25/50\n",
            "50000/50000 [==============================] - 12s 242us/step - loss: 1.6821 - acc: 0.3867 - val_loss: 1.6925 - val_acc: 0.3836\n",
            "Epoch 26/50\n",
            "50000/50000 [==============================] - 12s 248us/step - loss: 1.6786 - acc: 0.3906 - val_loss: 1.8293 - val_acc: 0.3349\n",
            "Epoch 27/50\n",
            "50000/50000 [==============================] - 12s 245us/step - loss: 1.6810 - acc: 0.3893 - val_loss: 1.7176 - val_acc: 0.3809\n",
            "Epoch 28/50\n",
            "50000/50000 [==============================] - 15s 308us/step - loss: 1.6763 - acc: 0.3902 - val_loss: 1.7206 - val_acc: 0.3751\n",
            "Epoch 29/50\n",
            "50000/50000 [==============================] - 14s 273us/step - loss: 1.6759 - acc: 0.3928 - val_loss: 1.7042 - val_acc: 0.3837\n",
            "Epoch 30/50\n",
            "50000/50000 [==============================] - 13s 257us/step - loss: 1.6744 - acc: 0.3912 - val_loss: 1.7185 - val_acc: 0.3747\n",
            "Epoch 31/50\n",
            "50000/50000 [==============================] - 13s 264us/step - loss: 1.6732 - acc: 0.3901 - val_loss: 1.6977 - val_acc: 0.3803\n",
            "Epoch 32/50\n",
            "50000/50000 [==============================] - 14s 272us/step - loss: 1.6707 - acc: 0.3931 - val_loss: 1.7373 - val_acc: 0.3721\n",
            "Epoch 33/50\n",
            "50000/50000 [==============================] - 15s 296us/step - loss: 1.6676 - acc: 0.3922 - val_loss: 1.7160 - val_acc: 0.3696\n",
            "Epoch 34/50\n",
            "50000/50000 [==============================] - 13s 257us/step - loss: 1.6695 - acc: 0.3913 - val_loss: 1.7168 - val_acc: 0.3771\n",
            "Epoch 35/50\n",
            "50000/50000 [==============================] - 13s 257us/step - loss: 1.6676 - acc: 0.3908 - val_loss: 1.6998 - val_acc: 0.3822\n",
            "Epoch 36/50\n",
            "50000/50000 [==============================] - 13s 254us/step - loss: 1.6653 - acc: 0.3952 - val_loss: 1.6976 - val_acc: 0.3739\n",
            "Epoch 37/50\n",
            "50000/50000 [==============================] - 14s 286us/step - loss: 1.6624 - acc: 0.3961 - val_loss: 1.6957 - val_acc: 0.3781\n",
            "Epoch 38/50\n",
            "50000/50000 [==============================] - 13s 263us/step - loss: 1.6644 - acc: 0.3930 - val_loss: 1.7091 - val_acc: 0.3768\n",
            "Epoch 39/50\n",
            "50000/50000 [==============================] - 15s 296us/step - loss: 1.6600 - acc: 0.3954 - val_loss: 1.6944 - val_acc: 0.3833\n",
            "Epoch 40/50\n",
            "50000/50000 [==============================] - 13s 256us/step - loss: 1.6606 - acc: 0.3963 - val_loss: 1.7052 - val_acc: 0.3709\n",
            "Epoch 41/50\n",
            "50000/50000 [==============================] - 16s 312us/step - loss: 1.6576 - acc: 0.3952 - val_loss: 1.7091 - val_acc: 0.3769\n",
            "Epoch 42/50\n",
            "50000/50000 [==============================] - 16s 316us/step - loss: 1.6563 - acc: 0.3954 - val_loss: 1.7036 - val_acc: 0.3747\n",
            "Epoch 43/50\n",
            "50000/50000 [==============================] - 13s 266us/step - loss: 1.6563 - acc: 0.3975 - val_loss: 1.7126 - val_acc: 0.3775\n",
            "Epoch 44/50\n",
            "50000/50000 [==============================] - 13s 268us/step - loss: 1.6571 - acc: 0.3947 - val_loss: 1.7123 - val_acc: 0.3711\n",
            "Epoch 45/50\n",
            "50000/50000 [==============================] - 13s 265us/step - loss: 1.6572 - acc: 0.3963 - val_loss: 1.6916 - val_acc: 0.3814\n",
            "Epoch 46/50\n",
            "50000/50000 [==============================] - 13s 260us/step - loss: 1.6536 - acc: 0.3971 - val_loss: 1.7088 - val_acc: 0.3723\n",
            "Epoch 47/50\n",
            "50000/50000 [==============================] - 13s 268us/step - loss: 1.6543 - acc: 0.3966 - val_loss: 1.6992 - val_acc: 0.3743\n",
            "Epoch 48/50\n",
            "50000/50000 [==============================] - 13s 269us/step - loss: 1.6509 - acc: 0.3974 - val_loss: 1.7000 - val_acc: 0.3788\n",
            "Epoch 49/50\n",
            "50000/50000 [==============================] - 13s 254us/step - loss: 1.6516 - acc: 0.3970 - val_loss: 1.6903 - val_acc: 0.3849\n",
            "Epoch 50/50\n",
            "50000/50000 [==============================] - 13s 252us/step - loss: 1.6520 - acc: 0.3966 - val_loss: 1.7031 - val_acc: 0.3741\n"
          ],
          "name": "stdout"
        }
      ]
    },
    {
      "metadata": {
        "id": "pbN7hgH_LTht",
        "colab_type": "text"
      },
      "cell_type": "markdown",
      "source": [
        "動作させている間はTensorboardに動的に書き込みされる"
      ]
    },
    {
      "metadata": {
        "id": "CcDbrO8XvOy8",
        "colab_type": "code",
        "colab": {
          "base_uri": "https://localhost:8080/",
          "height": 34
        },
        "outputId": "76494e72-2932-4402-ca18-14d6afc4d273"
      },
      "cell_type": "code",
      "source": [
        "history.history.keys()"
      ],
      "execution_count": 27,
      "outputs": [
        {
          "output_type": "execute_result",
          "data": {
            "text/plain": [
              "dict_keys(['val_loss', 'val_acc', 'loss', 'acc'])"
            ]
          },
          "metadata": {
            "tags": []
          },
          "execution_count": 27
        }
      ]
    }
  ]
}
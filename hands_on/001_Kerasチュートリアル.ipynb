{
  "nbformat": 4,
  "nbformat_minor": 0,
  "metadata": {
    "colab": {
      "name": "001_Kerasチュートリアル.ipynb",
      "version": "0.3.2",
      "provenance": [],
      "collapsed_sections": [],
      "include_colab_link": true
    },
    "kernelspec": {
      "name": "python3",
      "display_name": "Python 3"
    },
    "accelerator": "GPU"
  },
  "cells": [
    {
      "cell_type": "markdown",
      "metadata": {
        "id": "view-in-github",
        "colab_type": "text"
      },
      "source": [
        "<a href=\"https://colab.research.google.com/github/Aipakazuma/meetup037/blob/master/001_Keras%E3%83%81%E3%83%A5%E3%83%BC%E3%83%88%E3%83%AA%E3%82%A2%E3%83%AB.ipynb\" target=\"_parent\"><img src=\"https://colab.research.google.com/assets/colab-badge.svg\" alt=\"Open In Colab\"/></a>"
      ]
    },
    {
      "metadata": {
        "id": "Q3hum-rt9YkX",
        "colab_type": "text"
      },
      "cell_type": "markdown",
      "source": [
        "# Keras チュートリアル\n",
        "\n",
        "\n",
        "## やること\n",
        "\n",
        "* カーネルをGPUに変更\n",
        "* Kerasをimport\n",
        "* cifar10のデータを使う\n",
        "* 簡単なモデルを作ってみて学習してみる\n",
        "* 学習した結果を確認してみる\n",
        "* モデルの保存"
      ]
    },
    {
      "metadata": {
        "id": "fOoq5vlf-ZKH",
        "colab_type": "text"
      },
      "cell_type": "markdown",
      "source": [
        "## カーネルをGPUに変更\n",
        "\n",
        "ツールバーの`ランタイム` -> `ランタイムのタイプを変更`\n",
        "\n",
        "表示されたポップアップの`ハードウェア アクセラレーション`をGPUに変更して保存してください"
      ]
    },
    {
      "metadata": {
        "id": "x4jLhq_M99hG",
        "colab_type": "text"
      },
      "cell_type": "markdown",
      "source": [
        "## モジュールのimport"
      ]
    },
    {
      "metadata": {
        "id": "z1TDiPEc9SJB",
        "colab_type": "code",
        "colab": {}
      },
      "cell_type": "code",
      "source": [
        "from keras.models import Sequential\n",
        "from keras.layers import Dense, Activation, Flatten\n",
        "from keras.utils import to_categorical\n",
        "from keras.datasets import cifar10\n",
        "\n",
        "\n",
        "import numpy as np\n",
        "import pandas as pd\n",
        "import matplotlib.pyplot as plt"
      ],
      "execution_count": 0,
      "outputs": []
    },
    {
      "metadata": {
        "id": "IME-iQWc-S8H",
        "colab_type": "text"
      },
      "cell_type": "markdown",
      "source": [
        "## cifar10のデータをロード"
      ]
    },
    {
      "metadata": {
        "id": "AsplxQ1h-Q4B",
        "colab_type": "code",
        "colab": {}
      },
      "cell_type": "code",
      "source": [
        "(X_train, y_train), (X_test, y_test) = cifar10.load_data()"
      ],
      "execution_count": 0,
      "outputs": []
    },
    {
      "metadata": {
        "id": "GykvlK7L--mp",
        "colab_type": "code",
        "colab": {
          "base_uri": "https://localhost:8080/",
          "height": 34
        },
        "outputId": "35d95c23-3913-4a31-8758-90319bddcef7"
      },
      "cell_type": "code",
      "source": [
        "X_train.shape, y_train.shape, X_test.shape, y_test.shape"
      ],
      "execution_count": 5,
      "outputs": [
        {
          "output_type": "execute_result",
          "data": {
            "text/plain": [
              "((50000, 32, 32, 3), (50000, 1), (10000, 32, 32, 3), (10000, 1))"
            ]
          },
          "metadata": {
            "tags": []
          },
          "execution_count": 5
        }
      ]
    },
    {
      "metadata": {
        "id": "MHEhOxF9_RB0",
        "colab_type": "code",
        "colab": {
          "base_uri": "https://localhost:8080/",
          "height": 347
        },
        "outputId": "8315d9f5-148d-4814-ae96-867d9d2dd4a8"
      },
      "cell_type": "code",
      "source": [
        "# 画像の確認\n",
        "plt.imshow(X_train[0])\n",
        "plt.show()"
      ],
      "execution_count": 8,
      "outputs": [
        {
          "output_type": "display_data",
          "data": {
            "image/png": "[encoded data removed]",
            "text/plain": [
              "<matplotlib.figure.Figure at 0x7f2b6c65e6d8>"
            ]
          },
          "metadata": {
            "tags": []
          }
        }
      ]
    },
    {
      "metadata": {
        "id": "QBTyR1XR_gaA",
        "colab_type": "code",
        "colab": {
          "base_uri": "https://localhost:8080/",
          "height": 34
        },
        "outputId": "02f12fab-0e09-4915-ba30-14eda2f87717"
      },
      "cell_type": "code",
      "source": [
        "y_train[0]"
      ],
      "execution_count": 9,
      "outputs": [
        {
          "output_type": "execute_result",
          "data": {
            "text/plain": [
              "array([6], dtype=uint8)"
            ]
          },
          "metadata": {
            "tags": []
          },
          "execution_count": 9
        }
      ]
    },
    {
      "metadata": {
        "id": "QmIV7fFj_ie2",
        "colab_type": "text"
      },
      "cell_type": "markdown",
      "source": [
        "### ラベル\n",
        "\n",
        "* 0 airplane\t\t\t\t\t\t\t\t\t\t\n",
        "* 1 automobile\t\t\t\t\t\t\t\t\t\t\n",
        "* 2 bird\t\t\t\t\t\t\t\t\t\t\n",
        "* 3 cat\t\t\t\t\t\t\t\t\t\t\n",
        "* 4 deer\t\t\t\t\t\t\t\t\t\t\n",
        "* 5 dog\t\t\t\t\t\t\t\t\t\t\n",
        "* 6 frog\t\t\t\t\t\t\t\t\t\t\n",
        "* 7 horse\t\t\t\t\t\t\t\t\t\t\n",
        "* 8 ship\t\t\t\t\t\t\t\t\t\t\n",
        "* 9 truck\n",
        "\n",
        "\n",
        "6はカエル"
      ]
    },
    {
      "metadata": {
        "id": "c-9cMlaP_I9t",
        "colab_type": "text"
      },
      "cell_type": "markdown",
      "source": [
        "## 前処理"
      ]
    },
    {
      "metadata": {
        "id": "28hvZKt6_DpV",
        "colab_type": "code",
        "colab": {}
      },
      "cell_type": "code",
      "source": [
        "# 画像を0-1の範囲で正規化\n",
        "X_train = X_train.astype('float32') / 255.0\n",
        "X_test = X_test.astype('float32') / 255.0\n",
        "\n",
        "# 正解ラベルをOne-Hot表現に変換\n",
        "y_train = to_categorical(y_train, 10)\n",
        "y_test = to_categorical(y_test, 10)"
      ],
      "execution_count": 0,
      "outputs": []
    },
    {
      "metadata": {
        "id": "GhIXKrZuAHUX",
        "colab_type": "code",
        "colab": {
          "base_uri": "https://localhost:8080/",
          "height": 34
        },
        "outputId": "f687a507-ebb4-4b5f-fea1-35b796139153"
      },
      "cell_type": "code",
      "source": [
        "# [1] -> [0, 1, 0, 0, 0, 0, 0, 0, 0, 0]というデータに変更\n",
        "y_train.shape"
      ],
      "execution_count": 14,
      "outputs": [
        {
          "output_type": "execute_result",
          "data": {
            "text/plain": [
              "(50000, 10)"
            ]
          },
          "metadata": {
            "tags": []
          },
          "execution_count": 14
        }
      ]
    },
    {
      "metadata": {
        "id": "qq8g4vMMAXCm",
        "colab_type": "text"
      },
      "cell_type": "markdown",
      "source": [
        "## モデル構築"
      ]
    },
    {
      "metadata": {
        "id": "sKeu5RgDAWbC",
        "colab_type": "code",
        "colab": {}
      },
      "cell_type": "code",
      "source": [
        "# 簡単な3層の全結合層でモデルを組んでみる\n",
        "model = Sequential()\n",
        "model.add(Flatten(input_shape=(32, 32, 3)))\n",
        "model.add(Dense(32))\n",
        "model.add(Activation('relu'))\n",
        "\n",
        "model.add(Dense(32))\n",
        "model.add(Activation('relu'))\n",
        "\n",
        "model.add(Dense(10))\n",
        "model.add(Activation('softmax'))\n",
        "\n",
        "# モデルを利用するにはcompileしてあげる必要がある\n",
        "model.compile(optimizer='adam',loss='categorical_crossentropy', metrics=['accuracy'])"
      ],
      "execution_count": 0,
      "outputs": []
    },
    {
      "metadata": {
        "id": "ETcsEWTpACTH",
        "colab_type": "code",
        "colab": {
          "base_uri": "https://localhost:8080/",
          "height": 374
        },
        "outputId": "fb4ed87a-3915-4348-94a3-0d2505b9b850"
      },
      "cell_type": "code",
      "source": [
        "# 組んだモデルの構造を確認できます\n",
        "model.summary()"
      ],
      "execution_count": 34,
      "outputs": [
        {
          "output_type": "stream",
          "text": [
            "_________________________________________________________________\n",
            "Layer (type)                 Output Shape              Param #   \n",
            "=================================================================\n",
            "flatten_2 (Flatten)          (None, 3072)              0         \n",
            "_________________________________________________________________\n",
            "dense_4 (Dense)              (None, 32)                98336     \n",
            "_________________________________________________________________\n",
            "activation_4 (Activation)    (None, 32)                0         \n",
            "_________________________________________________________________\n",
            "dense_5 (Dense)              (None, 32)                1056      \n",
            "_________________________________________________________________\n",
            "activation_5 (Activation)    (None, 32)                0         \n",
            "_________________________________________________________________\n",
            "dense_6 (Dense)              (None, 10)                330       \n",
            "_________________________________________________________________\n",
            "activation_6 (Activation)    (None, 10)                0         \n",
            "=================================================================\n",
            "Total params: 99,722\n",
            "Trainable params: 99,722\n",
            "Non-trainable params: 0\n",
            "_________________________________________________________________\n"
          ],
          "name": "stdout"
        }
      ]
    },
    {
      "metadata": {
        "id": "7lh5_qXcBnfJ",
        "colab_type": "text"
      },
      "cell_type": "markdown",
      "source": [
        "* Output Shapeはある層の出力したときの次元（そのまま）\n",
        "  * 最初の次元がNoneなのはデータの数を可変にするため\n",
        "* Paramは重みのパラメータ数"
      ]
    },
    {
      "metadata": {
        "id": "tRf4tLIhCNTh",
        "colab_type": "text"
      },
      "cell_type": "markdown",
      "source": [
        "## 学習"
      ]
    },
    {
      "metadata": {
        "id": "LYtrJT2nBj3_",
        "colab_type": "code",
        "colab": {}
      },
      "cell_type": "code",
      "source": [
        "# 訓練データ全体を使って学習する回数\n",
        "epochs = 20\n",
        "\n",
        "# 一度に学習するデータの数\n",
        "batch_size = 128"
      ],
      "execution_count": 0,
      "outputs": []
    },
    {
      "metadata": {
        "id": "ZZ1G02-4FCxk",
        "colab_type": "text"
      },
      "cell_type": "markdown",
      "source": [
        "今回の訓練データは50000件なので\n",
        "\n",
        "1 epochでは、50000 / 128 = 391回勾配の更新が実行される。\n",
        "\n",
        "ディープラーニングではパラメータ数が多いため、何度か同じ訓練データを用いて学習する必要があるが、やりすぎると過学習してしまう"
      ]
    },
    {
      "metadata": {
        "id": "O5H_2Pk1EYlA",
        "colab_type": "code",
        "colab": {
          "base_uri": "https://localhost:8080/",
          "height": 714
        },
        "outputId": "935e38b9-45a1-4a73-c179-c5928c3bdfa8"
      },
      "cell_type": "code",
      "source": [
        "# モデルのfitting\n",
        "history = model.fit(X_train,\n",
        "                    y_train,\n",
        "                    epochs=epochs,\n",
        "                    batch_size=batch_size,\n",
        "                    validation_split=0.1)  # validation_split -> 訓練の最後の10%を検証データとする"
      ],
      "execution_count": 35,
      "outputs": [
        {
          "output_type": "stream",
          "text": [
            "Train on 45000 samples, validate on 5000 samples\n",
            "Epoch 1/20\n",
            "45000/45000 [==============================] - 4s 79us/step - loss: 2.1618 - acc: 0.1930 - val_loss: 2.0484 - val_acc: 0.2466\n",
            "Epoch 2/20\n",
            "45000/45000 [==============================] - 4s 89us/step - loss: 1.9800 - acc: 0.2702 - val_loss: 1.9518 - val_acc: 0.2748\n",
            "Epoch 3/20\n",
            "45000/45000 [==============================] - 4s 89us/step - loss: 1.9284 - acc: 0.2947 - val_loss: 1.9216 - val_acc: 0.3004\n",
            "Epoch 4/20\n",
            "45000/45000 [==============================] - 4s 88us/step - loss: 1.9012 - acc: 0.3152 - val_loss: 1.9028 - val_acc: 0.3132\n",
            "Epoch 5/20\n",
            "45000/45000 [==============================] - 4s 89us/step - loss: 1.8794 - acc: 0.3233 - val_loss: 1.8795 - val_acc: 0.3290\n",
            "Epoch 6/20\n",
            "45000/45000 [==============================] - 4s 84us/step - loss: 1.8608 - acc: 0.3333 - val_loss: 1.8620 - val_acc: 0.3350\n",
            "Epoch 7/20\n",
            "45000/45000 [==============================] - 3s 76us/step - loss: 1.8434 - acc: 0.3413 - val_loss: 1.8466 - val_acc: 0.3414\n",
            "Epoch 8/20\n",
            "45000/45000 [==============================] - 3s 75us/step - loss: 1.8258 - acc: 0.3478 - val_loss: 1.8392 - val_acc: 0.3378\n",
            "Epoch 9/20\n",
            "45000/45000 [==============================] - 4s 79us/step - loss: 1.8107 - acc: 0.3540 - val_loss: 1.8264 - val_acc: 0.3488\n",
            "Epoch 10/20\n",
            "45000/45000 [==============================] - 4s 79us/step - loss: 1.7957 - acc: 0.3561 - val_loss: 1.8057 - val_acc: 0.3540\n",
            "Epoch 11/20\n",
            "45000/45000 [==============================] - 4s 90us/step - loss: 1.7825 - acc: 0.3612 - val_loss: 1.7929 - val_acc: 0.3524\n",
            "Epoch 12/20\n",
            "45000/45000 [==============================] - 4s 88us/step - loss: 1.7690 - acc: 0.3658 - val_loss: 1.7814 - val_acc: 0.3586\n",
            "Epoch 13/20\n",
            "45000/45000 [==============================] - 4s 90us/step - loss: 1.7564 - acc: 0.3690 - val_loss: 1.7773 - val_acc: 0.3666\n",
            "Epoch 14/20\n",
            "45000/45000 [==============================] - 4s 89us/step - loss: 1.7443 - acc: 0.3741 - val_loss: 1.7617 - val_acc: 0.3680\n",
            "Epoch 15/20\n",
            "45000/45000 [==============================] - 4s 90us/step - loss: 1.7324 - acc: 0.3774 - val_loss: 1.7466 - val_acc: 0.3768\n",
            "Epoch 16/20\n",
            "45000/45000 [==============================] - 4s 90us/step - loss: 1.7225 - acc: 0.3810 - val_loss: 1.7399 - val_acc: 0.3752\n",
            "Epoch 17/20\n",
            "45000/45000 [==============================] - 4s 86us/step - loss: 1.7113 - acc: 0.3840 - val_loss: 1.7232 - val_acc: 0.3836\n",
            "Epoch 18/20\n",
            "45000/45000 [==============================] - 4s 87us/step - loss: 1.7001 - acc: 0.3868 - val_loss: 1.7160 - val_acc: 0.3912\n",
            "Epoch 19/20\n",
            "45000/45000 [==============================] - 4s 87us/step - loss: 1.6896 - acc: 0.3912 - val_loss: 1.7070 - val_acc: 0.3928\n",
            "Epoch 20/20\n",
            "45000/45000 [==============================] - 4s 89us/step - loss: 1.6796 - acc: 0.3940 - val_loss: 1.6969 - val_acc: 0.4010\n"
          ],
          "name": "stdout"
        }
      ]
    },
    {
      "metadata": {
        "id": "fWAuILIYErQH",
        "colab_type": "text"
      },
      "cell_type": "markdown",
      "source": [
        "## 結果の確認"
      ]
    },
    {
      "metadata": {
        "id": "ExFGYAQvEtE8",
        "colab_type": "text"
      },
      "cell_type": "markdown",
      "source": [
        "### 精度とlossの確認"
      ]
    },
    {
      "metadata": {
        "id": "kTiy-nTwFijU",
        "colab_type": "code",
        "colab": {
          "base_uri": "https://localhost:8080/",
          "height": 34
        },
        "outputId": "06a709cd-612c-4e62-9752-a51fc5518717"
      },
      "cell_type": "code",
      "source": [
        "history.history.keys()"
      ],
      "execution_count": 37,
      "outputs": [
        {
          "output_type": "execute_result",
          "data": {
            "text/plain": [
              "dict_keys(['val_loss', 'val_acc', 'loss', 'acc'])"
            ]
          },
          "metadata": {
            "tags": []
          },
          "execution_count": 37
        }
      ]
    },
    {
      "metadata": {
        "id": "isbAEUkQEiU6",
        "colab_type": "code",
        "colab": {
          "base_uri": "https://localhost:8080/",
          "height": 707
        },
        "outputId": "6c506a8a-2472-4d9e-fb06-dc1808a6c7b4"
      },
      "cell_type": "code",
      "source": [
        "x = range(epochs)\n",
        "plt.plot(x, history.history['acc'], label='acc', color='r')\n",
        "plt.plot(x, history.history['val_acc'], label='val_acc', color='b')\n",
        "plt.ylim(0.0, 0.6)\n",
        "plt.title('accuracy')\n",
        "plt.legend(loc='center left', bbox_to_anchor=(1, 0.5))\n",
        "plt.show()\n",
        "\n",
        "plt.plot(x, history.history['loss'], label='loss', color='r')\n",
        "plt.plot(x, history.history['val_loss'], label='val_loss', color='b')\n",
        "plt.title('loss')\n",
        "plt.ylim(1.0, 2.5)\n",
        "plt.legend(loc='center left', bbox_to_anchor=(1, 0.5))\n",
        "plt.show()"
      ],
      "execution_count": 40,
      "outputs": [
        {
          "output_type": "display_data",
          "data": {
            "image/png": "[encoded data removed]",
            "text/plain": [
              "<matplotlib.figure.Figure at 0x7f2b62a9f6a0>"
            ]
          },
          "metadata": {
            "tags": []
          }
        },
        {
          "output_type": "display_data",
          "data": {
            "image/png": "[encoded data removed]",
            "text/plain": [
              "<matplotlib.figure.Figure at 0x7f2b62c46048>"
            ]
          },
          "metadata": {
            "tags": []
          }
        }
      ]
    },
    {
      "metadata": {
        "id": "G6LLTtxBG56M",
        "colab_type": "text"
      },
      "cell_type": "markdown",
      "source": [
        "ここから読み取れること\n",
        "\n",
        "* 訓練と検証データの差が小さいので、過学習していないようだ\n",
        "* epochsを増やせば精度向上はいけそう\n",
        "* ただ、伸びがいまいちなのでモデル構造変更したほうが良さそう"
      ]
    },
    {
      "metadata": {
        "id": "mc0bMLpLGcNQ",
        "colab_type": "text"
      },
      "cell_type": "markdown",
      "source": [
        "### テストデータを評価"
      ]
    },
    {
      "metadata": {
        "id": "DVl398GeHdDt",
        "colab_type": "code",
        "colab": {
          "base_uri": "https://localhost:8080/",
          "height": 51
        },
        "outputId": "38ef4cd7-af02-45a9-b343-b3b43bd496a9"
      },
      "cell_type": "code",
      "source": [
        "# テストデータの精度を確認する\n",
        "loss, acc = model.evaluate(X_test, y_test)\n",
        "print('test loss: {}, test acc: {}'.format(loss, acc))"
      ],
      "execution_count": 42,
      "outputs": [
        {
          "output_type": "stream",
          "text": [
            "10000/10000 [==============================] - 1s 106us/step\n",
            "test loss: 1.6736831453323364, test acc: 0.3996\n"
          ],
          "name": "stdout"
        }
      ]
    },
    {
      "metadata": {
        "id": "v4J5uvt0GfJ1",
        "colab_type": "text"
      },
      "cell_type": "markdown",
      "source": [
        "### 間違えたデータを確認してみる\n",
        "\n",
        "それぞれのラベル毎に正解・不正解の内訳を確認してみる\n",
        "\n",
        "scikit-learnの関数を使って行う(Kerasでできるのであればそれでも良い)"
      ]
    },
    {
      "metadata": {
        "id": "KkGySTueH8jw",
        "colab_type": "code",
        "colab": {}
      },
      "cell_type": "code",
      "source": [
        "from sklearn.metrics import classification_report"
      ],
      "execution_count": 0,
      "outputs": []
    },
    {
      "metadata": {
        "id": "Zjrgeq3WJCsV",
        "colab_type": "code",
        "colab": {
          "base_uri": "https://localhost:8080/",
          "height": 68
        },
        "outputId": "116b57c8-b2f7-4454-b507-63d2ef75f54f"
      },
      "cell_type": "code",
      "source": [
        "# あるデータを評価したい(分類)場合は、predict関数を利用する\n",
        "# 渡す場合は、学習したデータの次元と同じにしなければならない\n",
        "input_data = np.array([X_train[0]])\n",
        "model.predict(input_data)"
      ],
      "execution_count": 48,
      "outputs": [
        {
          "output_type": "execute_result",
          "data": {
            "text/plain": [
              "array([[0.00737082, 0.02575703, 0.09344425, 0.10146618, 0.09591059,\n",
              "        0.06780282, 0.5546511 , 0.03855815, 0.00247092, 0.01256814]],\n",
              "      dtype=float32)"
            ]
          },
          "metadata": {
            "tags": []
          },
          "execution_count": 48
        }
      ]
    },
    {
      "metadata": {
        "id": "TaZgurENJhAY",
        "colab_type": "text"
      },
      "cell_type": "markdown",
      "source": [
        "np.array([10])のデータで返ってくる。入っている値は確率値。一番高い値が予測したクラスとなる."
      ]
    },
    {
      "metadata": {
        "id": "4BR5EucWJ2Vb",
        "colab_type": "code",
        "colab": {
          "base_uri": "https://localhost:8080/",
          "height": 34
        },
        "outputId": "354a21ad-bceb-4a01-af27-407906a67ba5"
      },
      "cell_type": "code",
      "source": [
        "# 確率なので全部足すと1.0になる\n",
        "model.predict(input_data).sum(axis=1)"
      ],
      "execution_count": 54,
      "outputs": [
        {
          "output_type": "execute_result",
          "data": {
            "text/plain": [
              "array([0.99999994], dtype=float32)"
            ]
          },
          "metadata": {
            "tags": []
          },
          "execution_count": 54
        }
      ]
    },
    {
      "metadata": {
        "id": "kmd9uRn8J8K7",
        "colab_type": "text"
      },
      "cell_type": "markdown",
      "source": [
        "(ならなかった)"
      ]
    },
    {
      "metadata": {
        "id": "wVYAqh4EJ_Gx",
        "colab_type": "text"
      },
      "cell_type": "markdown",
      "source": [
        "Webサービスに組み込むなどしたい場合はこの関数を利用すればよい"
      ]
    },
    {
      "metadata": {
        "id": "xUGk4BN3KENM",
        "colab_type": "code",
        "colab": {
          "base_uri": "https://localhost:8080/",
          "height": 34
        },
        "outputId": "3b007249-4c83-427f-ee09-9fb81bffcf43"
      },
      "cell_type": "code",
      "source": [
        "# 一番大きい確率の要素番号(クラス)を取得する場合は、np.argmax()を使えば良い\n",
        "model.predict(input_data).argmax(axis=1)"
      ],
      "execution_count": 55,
      "outputs": [
        {
          "output_type": "execute_result",
          "data": {
            "text/plain": [
              "array([6])"
            ]
          },
          "metadata": {
            "tags": []
          },
          "execution_count": 55
        }
      ]
    },
    {
      "metadata": {
        "id": "kmORicWXKVuw",
        "colab_type": "text"
      },
      "cell_type": "markdown",
      "source": [
        "本題に戻る"
      ]
    },
    {
      "metadata": {
        "id": "g6VUICG4Ilet",
        "colab_type": "code",
        "colab": {}
      },
      "cell_type": "code",
      "source": [
        "# on-hot形式なので元に戻す\n",
        "_y_train = y_train.argmax(axis=-1)\n",
        "_y_test = y_test.argmax(axis=-1)"
      ],
      "execution_count": 0,
      "outputs": []
    },
    {
      "metadata": {
        "id": "EGMRX15RKuDV",
        "colab_type": "code",
        "colab": {}
      },
      "cell_type": "code",
      "source": [
        "label_names = \"\"\"airplane\n",
        "automobile\n",
        "bird\n",
        "cat\n",
        "deer\n",
        "dog\n",
        "frog\n",
        "horse\n",
        "ship\n",
        "truck\"\"\".split('\\n')"
      ],
      "execution_count": 0,
      "outputs": []
    },
    {
      "metadata": {
        "id": "drefxiEuK3Tm",
        "colab_type": "code",
        "colab": {
          "base_uri": "https://localhost:8080/",
          "height": 187
        },
        "outputId": "e51dbde5-f30b-476a-d711-6d15d9ca4b5d"
      },
      "cell_type": "code",
      "source": [
        "label_names"
      ],
      "execution_count": 62,
      "outputs": [
        {
          "output_type": "execute_result",
          "data": {
            "text/plain": [
              "['airplane',\n",
              " 'automobile',\n",
              " 'bird',\n",
              " 'cat',\n",
              " 'deer',\n",
              " 'dog',\n",
              " 'frog',\n",
              " 'horse',\n",
              " 'ship',\n",
              " 'truck']"
            ]
          },
          "metadata": {
            "tags": []
          },
          "execution_count": 62
        }
      ]
    },
    {
      "metadata": {
        "id": "oj34qRRsIPP_",
        "colab_type": "code",
        "colab": {
          "base_uri": "https://localhost:8080/",
          "height": 272
        },
        "outputId": "52f25c5e-9077-49ff-d6f4-859c30a1e9c6"
      },
      "cell_type": "code",
      "source": [
        "# (正解データ, 予測結果, target_name=['ラベル名'])で渡す\n",
        "# target_nameは必須ではない。が見やすいのでオススメ\n",
        "r = classification_report(_y_train, model.predict(X_train).argmax(axis=1), target_names=label_names)\n",
        "print(r)"
      ],
      "execution_count": 64,
      "outputs": [
        {
          "output_type": "stream",
          "text": [
            "             precision    recall  f1-score   support\n",
            "\n",
            "   airplane       0.46      0.46      0.46      5000\n",
            " automobile       0.45      0.49      0.47      5000\n",
            "       bird       0.27      0.17      0.21      5000\n",
            "        cat       0.29      0.25      0.26      5000\n",
            "       deer       0.31      0.27      0.29      5000\n",
            "        dog       0.39      0.30      0.34      5000\n",
            "       frog       0.38      0.49      0.43      5000\n",
            "      horse       0.39      0.49      0.43      5000\n",
            "       ship       0.53      0.53      0.53      5000\n",
            "      truck       0.43      0.53      0.47      5000\n",
            "\n",
            "avg / total       0.39      0.40      0.39     50000\n",
            "\n"
          ],
          "name": "stdout"
        }
      ]
    },
    {
      "metadata": {
        "id": "MbG7nfajLDYz",
        "colab_type": "code",
        "colab": {
          "base_uri": "https://localhost:8080/",
          "height": 272
        },
        "outputId": "e14c87fe-e43c-468c-aed6-fbe271b000d7"
      },
      "cell_type": "code",
      "source": [
        "# テストデータ\n",
        "r = classification_report(_y_test, model.predict(X_test).argmax(axis=1), target_names=label_names)\n",
        "print(r)"
      ],
      "execution_count": 65,
      "outputs": [
        {
          "output_type": "stream",
          "text": [
            "             precision    recall  f1-score   support\n",
            "\n",
            "   airplane       0.48      0.49      0.49      1000\n",
            " automobile       0.46      0.48      0.47      1000\n",
            "       bird       0.27      0.17      0.21      1000\n",
            "        cat       0.28      0.26      0.27      1000\n",
            "       deer       0.32      0.27      0.29      1000\n",
            "        dog       0.39      0.29      0.33      1000\n",
            "       frog       0.39      0.52      0.44      1000\n",
            "      horse       0.38      0.48      0.42      1000\n",
            "       ship       0.51      0.53      0.52      1000\n",
            "      truck       0.44      0.51      0.47      1000\n",
            "\n",
            "avg / total       0.39      0.40      0.39     10000\n",
            "\n"
          ],
          "name": "stdout"
        }
      ]
    },
    {
      "metadata": {
        "id": "21WVB3IpMZyu",
        "colab_type": "text"
      },
      "cell_type": "markdown",
      "source": [
        "* precision 適合率のこと。予測を正と判断した中で、答えも正のもの\n",
        "* recall 再現率のこと。答えが正の中で、予測が正とされたもの\n",
        "* f1-score PresicionとRecallの調和平均"
      ]
    },
    {
      "metadata": {
        "id": "uCT1cKV2GhPA",
        "colab_type": "text"
      },
      "cell_type": "markdown",
      "source": [
        "## モデルの保存\n",
        "\n",
        "* 2つやる必要がある\n",
        "  * 重みの保存\n",
        "    * hdf5形式で保存\n",
        "  * モデル構造の保存\n",
        "    * yamlとjsonがある"
      ]
    },
    {
      "metadata": {
        "id": "dxA4o8q2M5TN",
        "colab_type": "code",
        "colab": {}
      },
      "cell_type": "code",
      "source": [
        "!mkdir ./models/"
      ],
      "execution_count": 0,
      "outputs": []
    },
    {
      "metadata": {
        "id": "JrQ8hLmBNlpM",
        "colab_type": "code",
        "colab": {}
      },
      "cell_type": "code",
      "source": [
        "# 重みの保存\n",
        "model.save_weights('./models/first_model.hdf5')"
      ],
      "execution_count": 0,
      "outputs": []
    },
    {
      "metadata": {
        "id": "1_ti7OVOFfSN",
        "colab_type": "code",
        "colab": {}
      },
      "cell_type": "code",
      "source": [
        "# モデル構造の保存\n",
        "# json文字列で取得\n",
        "model_json = model.to_json()\n",
        "\n",
        "# あとはpythonのモジュールを使ってjsonファイルで保存する\n",
        "import json\n",
        "\n",
        "with open('./models/first_model.json', 'w') as f:\n",
        "  json.dump(model_json, f)"
      ],
      "execution_count": 0,
      "outputs": []
    },
    {
      "metadata": {
        "id": "CNmbLZtpM_cl",
        "colab_type": "code",
        "colab": {
          "base_uri": "https://localhost:8080/",
          "height": 68
        },
        "outputId": "32a76cd2-72af-4a2c-a9eb-b6fdef6bad92"
      },
      "cell_type": "code",
      "source": [
        "!ls -lh ./models/"
      ],
      "execution_count": 73,
      "outputs": [
        {
          "output_type": "stream",
          "text": [
            "total 412K\n",
            "-rw-r--r-- 1 root root 407K Dec 11 17:00 first_model.hdf5\n",
            "-rw-r--r-- 1 root root 2.3K Dec 11 17:00 first_model.json\n"
          ],
          "name": "stdout"
        }
      ]
    },
    {
      "metadata": {
        "id": "I0Z5BD1mNvOB",
        "colab_type": "text"
      },
      "cell_type": "markdown",
      "source": [
        "読み込む時は下記のようにすれば良い"
      ]
    },
    {
      "metadata": {
        "id": "4E8SRTgQNrrE",
        "colab_type": "code",
        "colab": {}
      },
      "cell_type": "code",
      "source": [
        "from keras.models import model_from_json\n",
        "\n",
        "with open('./models/first_model.json', 'r') as f:\n",
        "  json_string = json.load(f)\n",
        "\n",
        "\n",
        "model2 = model_from_json(json_string)"
      ],
      "execution_count": 0,
      "outputs": []
    },
    {
      "metadata": {
        "id": "l6hHXe_4N_ps",
        "colab_type": "code",
        "colab": {}
      },
      "cell_type": "code",
      "source": [
        "model2.load_weights('./models/first_model.hdf5')"
      ],
      "execution_count": 0,
      "outputs": []
    },
    {
      "metadata": {
        "id": "P59XGJ4VOEmh",
        "colab_type": "code",
        "colab": {
          "base_uri": "https://localhost:8080/",
          "height": 374
        },
        "outputId": "1fe41ec4-59ba-4097-e7e6-ffca2b9636e0"
      },
      "cell_type": "code",
      "source": [
        "model2.summary()"
      ],
      "execution_count": 76,
      "outputs": [
        {
          "output_type": "stream",
          "text": [
            "_________________________________________________________________\n",
            "Layer (type)                 Output Shape              Param #   \n",
            "=================================================================\n",
            "flatten_2 (Flatten)          (None, 3072)              0         \n",
            "_________________________________________________________________\n",
            "dense_4 (Dense)              (None, 32)                98336     \n",
            "_________________________________________________________________\n",
            "activation_4 (Activation)    (None, 32)                0         \n",
            "_________________________________________________________________\n",
            "dense_5 (Dense)              (None, 32)                1056      \n",
            "_________________________________________________________________\n",
            "activation_5 (Activation)    (None, 32)                0         \n",
            "_________________________________________________________________\n",
            "dense_6 (Dense)              (None, 10)                330       \n",
            "_________________________________________________________________\n",
            "activation_6 (Activation)    (None, 10)                0         \n",
            "=================================================================\n",
            "Total params: 99,722\n",
            "Trainable params: 99,722\n",
            "Non-trainable params: 0\n",
            "_________________________________________________________________\n"
          ],
          "name": "stdout"
        }
      ]
    },
    {
      "metadata": {
        "id": "I3OgLKrAOFg1",
        "colab_type": "code",
        "colab": {}
      },
      "cell_type": "code",
      "source": [
        ""
      ],
      "execution_count": 0,
      "outputs": []
    }
  ]
}
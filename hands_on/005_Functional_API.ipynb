{
  "nbformat": 4,
  "nbformat_minor": 0,
  "metadata": {
    "colab": {
      "name": "005_Functional_API.ipynb",
      "version": "0.3.2",
      "provenance": [],
      "include_colab_link": true
    },
    "kernelspec": {
      "name": "python3",
      "display_name": "Python 3"
    },
    "accelerator": "GPU"
  },
  "cells": [
    {
      "cell_type": "markdown",
      "metadata": {
        "id": "view-in-github",
        "colab_type": "text"
      },
      "source": [
        "<a href=\"https://colab.research.google.com/github/Aipakazuma/meetup037/blob/master/005_Functional_API.ipynb\" target=\"_parent\"><img src=\"https://colab.research.google.com/assets/colab-badge.svg\" alt=\"Open In Colab\"/></a>"
      ]
    },
    {
      "metadata": {
        "id": "43FEtyv0_7_A",
        "colab_type": "text"
      },
      "cell_type": "markdown",
      "source": [
        "# Functional API\n",
        "\n",
        "応用がきくAPIを使って、モデルのカスタマイズを扱いやすくする\n",
        "\n",
        "## やること\n",
        "\n",
        "* 簡単なFunctional API\n",
        "* Inceptionモデルを組んでみる"
      ]
    },
    {
      "metadata": {
        "id": "koifaOmp_1XD",
        "colab_type": "code",
        "outputId": "cbe2912e-6a18-427f-e7af-64c4f35aabae",
        "colab": {
          "base_uri": "https://localhost:8080/",
          "height": 34
        }
      },
      "cell_type": "code",
      "source": [
        "from keras.datasets import cifar10\n",
        "from keras.utils import np_utils\n",
        "from keras.callbacks import TensorBoard\n",
        "\n",
        "\n",
        "import numpy as np\n",
        "import pandas as pd\n",
        "import matplotlib.pyplot as plt\n",
        "from datetime import datetime"
      ],
      "execution_count": 0,
      "outputs": [
        {
          "output_type": "stream",
          "text": [
            "Using TensorFlow backend.\n"
          ],
          "name": "stderr"
        }
      ]
    },
    {
      "metadata": {
        "id": "sN5U6t7lAZ8y",
        "colab_type": "text"
      },
      "cell_type": "markdown",
      "source": [
        "## データの読み込み"
      ]
    },
    {
      "metadata": {
        "id": "QK8rTaFOAYQO",
        "colab_type": "code",
        "colab": {}
      },
      "cell_type": "code",
      "source": [
        "(X_train, y_train), (X_test, y_test) = cifar10.load_data()"
      ],
      "execution_count": 0,
      "outputs": []
    },
    {
      "metadata": {
        "id": "kBWzpGj3A2y7",
        "colab_type": "text"
      },
      "cell_type": "markdown",
      "source": [
        "## 前処理"
      ]
    },
    {
      "metadata": {
        "id": "C8vpZ18JA3-j",
        "colab_type": "code",
        "colab": {}
      },
      "cell_type": "code",
      "source": [
        "# 画像を0-1の範囲で正規化\n",
        "X_train = X_train.astype('float32') / 255.0\n",
        "X_test = X_test.astype('float32') / 255.0\n",
        "\n",
        "# 正解ラベルをOne-Hot表現に変換\n",
        "y_train = np_utils.to_categorical(y_train, 10)\n",
        "y_test = np_utils.to_categorical(y_test, 10)"
      ],
      "execution_count": 0,
      "outputs": []
    },
    {
      "metadata": {
        "id": "UZIJkIPjAdzz",
        "colab_type": "text"
      },
      "cell_type": "markdown",
      "source": [
        "## Functional APIで簡単なモデルを構築する"
      ]
    },
    {
      "metadata": {
        "id": "Ohv-sIqqAbeh",
        "colab_type": "text"
      },
      "cell_type": "markdown",
      "source": [
        "## モデルの構築"
      ]
    },
    {
      "metadata": {
        "id": "TGoxi_zbAdCS",
        "colab_type": "code",
        "colab": {}
      },
      "cell_type": "code",
      "source": [
        "from keras.models import Input, Model\n",
        "from keras.layers import Dense, Flatten, Activation"
      ],
      "execution_count": 0,
      "outputs": []
    },
    {
      "metadata": {
        "id": "sa8zBxJ5AzE1",
        "colab_type": "code",
        "colab": {}
      },
      "cell_type": "code",
      "source": [
        "# 入力する層と出力する層をきめてあげて、あとは順番にレイヤーを組んでいけばおｋ\n",
        "# 入力層\n",
        "_input = Input(shape=(32,32,3))\n",
        "\n",
        "# 中間層\n",
        "x = Flatten()(_input)\n",
        "\n",
        "x = Dense(32)(x)\n",
        "x = Activation('relu')(x)\n",
        "\n",
        "x = Dense(64)(x)\n",
        "x = Activation('relu')(x)\n",
        "\n",
        "# 出力層\n",
        "_output = Dense(10, activation='softmax')(x)\n",
        "\n",
        "# モデルにする\n",
        "model = Model(_input, _output)\n",
        "\n",
        "# compileは一緒\n",
        "model.compile(optimizer='adam',loss='categorical_crossentropy', metrics=['accuracy'])"
      ],
      "execution_count": 0,
      "outputs": []
    },
    {
      "metadata": {
        "id": "K0mStJxaBZBD",
        "colab_type": "code",
        "outputId": "16512dfb-c266-40ba-da35-1bc8056c517a",
        "colab": {
          "base_uri": "https://localhost:8080/",
          "height": 374
        }
      },
      "cell_type": "code",
      "source": [
        "model.summary()"
      ],
      "execution_count": 0,
      "outputs": [
        {
          "output_type": "stream",
          "text": [
            "_________________________________________________________________\n",
            "Layer (type)                 Output Shape              Param #   \n",
            "=================================================================\n",
            "input_3 (InputLayer)         (None, 32, 32, 3)         0         \n",
            "_________________________________________________________________\n",
            "flatten_1 (Flatten)          (None, 3072)              0         \n",
            "_________________________________________________________________\n",
            "dense_7 (Dense)              (None, 32)                98336     \n",
            "_________________________________________________________________\n",
            "activation_5 (Activation)    (None, 32)                0         \n",
            "_________________________________________________________________\n",
            "dense_8 (Dense)              (None, 64)                2112      \n",
            "_________________________________________________________________\n",
            "activation_6 (Activation)    (None, 64)                0         \n",
            "_________________________________________________________________\n",
            "dense_9 (Dense)              (None, 10)                650       \n",
            "=================================================================\n",
            "Total params: 101,098\n",
            "Trainable params: 101,098\n",
            "Non-trainable params: 0\n",
            "_________________________________________________________________\n"
          ],
          "name": "stdout"
        }
      ]
    },
    {
      "metadata": {
        "id": "unpDPQUbBc0q",
        "colab_type": "code",
        "outputId": "3347ce14-d200-400a-da93-8058085b3e29",
        "colab": {
          "base_uri": "https://localhost:8080/",
          "height": 714
        }
      },
      "cell_type": "code",
      "source": [
        "epochs = 20\n",
        "batch_size = 128\n",
        "history = model.fit(X_train, y_train, epochs=epochs, batch_size=batch_size,\n",
        "                                  validation_data=(X_test, y_test))"
      ],
      "execution_count": 0,
      "outputs": [
        {
          "output_type": "stream",
          "text": [
            "Train on 50000 samples, validate on 10000 samples\n",
            "Epoch 1/20\n",
            "50000/50000 [==============================] - 5s 95us/step - loss: 1.9805 - acc: 0.2657 - val_loss: 1.8604 - val_acc: 0.3248\n",
            "Epoch 2/20\n",
            "50000/50000 [==============================] - 4s 78us/step - loss: 1.8329 - acc: 0.3360 - val_loss: 1.8017 - val_acc: 0.3514\n",
            "Epoch 3/20\n",
            "50000/50000 [==============================] - 4s 78us/step - loss: 1.7974 - acc: 0.3499 - val_loss: 1.7743 - val_acc: 0.3600\n",
            "Epoch 4/20\n",
            "50000/50000 [==============================] - 4s 77us/step - loss: 1.7756 - acc: 0.3599 - val_loss: 1.7597 - val_acc: 0.3545\n",
            "Epoch 5/20\n",
            "50000/50000 [==============================] - 4s 78us/step - loss: 1.7574 - acc: 0.3662 - val_loss: 1.7715 - val_acc: 0.3558\n",
            "Epoch 6/20\n",
            "50000/50000 [==============================] - 4s 79us/step - loss: 1.7476 - acc: 0.3708 - val_loss: 1.7914 - val_acc: 0.3553\n",
            "Epoch 7/20\n",
            "50000/50000 [==============================] - 4s 78us/step - loss: 1.7405 - acc: 0.3738 - val_loss: 1.7376 - val_acc: 0.3702\n",
            "Epoch 8/20\n",
            "50000/50000 [==============================] - 4s 79us/step - loss: 1.7290 - acc: 0.3771 - val_loss: 1.7179 - val_acc: 0.3796\n",
            "Epoch 9/20\n",
            "50000/50000 [==============================] - 4s 80us/step - loss: 1.7255 - acc: 0.3787 - val_loss: 1.7423 - val_acc: 0.3769\n",
            "Epoch 10/20\n",
            "50000/50000 [==============================] - 4s 79us/step - loss: 1.7169 - acc: 0.3815 - val_loss: 1.7126 - val_acc: 0.3830\n",
            "Epoch 11/20\n",
            "50000/50000 [==============================] - 4s 78us/step - loss: 1.7164 - acc: 0.3833 - val_loss: 1.7298 - val_acc: 0.3721\n",
            "Epoch 12/20\n",
            "50000/50000 [==============================] - 4s 78us/step - loss: 1.7058 - acc: 0.3847 - val_loss: 1.7019 - val_acc: 0.3867\n",
            "Epoch 13/20\n",
            "50000/50000 [==============================] - 4s 79us/step - loss: 1.7034 - acc: 0.3858 - val_loss: 1.7142 - val_acc: 0.3842\n",
            "Epoch 14/20\n",
            "50000/50000 [==============================] - 4s 80us/step - loss: 1.7031 - acc: 0.3867 - val_loss: 1.6973 - val_acc: 0.3864\n",
            "Epoch 15/20\n",
            "50000/50000 [==============================] - 4s 80us/step - loss: 1.6976 - acc: 0.3884 - val_loss: 1.7172 - val_acc: 0.3816\n",
            "Epoch 16/20\n",
            "50000/50000 [==============================] - 4s 77us/step - loss: 1.6909 - acc: 0.3916 - val_loss: 1.7027 - val_acc: 0.3872\n",
            "Epoch 17/20\n",
            "50000/50000 [==============================] - 4s 79us/step - loss: 1.6927 - acc: 0.3909 - val_loss: 1.6853 - val_acc: 0.3936\n",
            "Epoch 18/20\n",
            "50000/50000 [==============================] - 4s 79us/step - loss: 1.6883 - acc: 0.3899 - val_loss: 1.7007 - val_acc: 0.3838\n",
            "Epoch 19/20\n",
            "50000/50000 [==============================] - 4s 79us/step - loss: 1.6834 - acc: 0.3911 - val_loss: 1.6907 - val_acc: 0.3909\n",
            "Epoch 20/20\n",
            "50000/50000 [==============================] - 4s 79us/step - loss: 1.6836 - acc: 0.3910 - val_loss: 1.6900 - val_acc: 0.3898\n"
          ],
          "name": "stdout"
        }
      ]
    },
    {
      "metadata": {
        "id": "ZemmNBUhCgpz",
        "colab_type": "text"
      },
      "cell_type": "markdown",
      "source": [
        "## Inseptionモデルの構築\n",
        "\n",
        "\n",
        "さぁ組み込もうと思ったら\n",
        "\n",
        "https://keras.io/ja/applications/#inceptionv3\n",
        "\n",
        "なんとすでに学習済みモデルが...(今回使わないけど)\n",
        "\n",
        "### Inseption v3とは\n",
        "\n",
        ">Googleによって開発されたInception-v3は、ILSVRCという大規模画像データセットを使った画像識別タスク用に1,000クラスの画像分類を行うよう学習されたモデルで、非常に高い精度の画像識別を達成しています。"
      ]
    },
    {
      "metadata": {
        "id": "e_JjNcCAEZOF",
        "colab_type": "text"
      },
      "cell_type": "markdown",
      "source": [
        "<img src=\"https://vitalab.github.io/deep-learning/images/inception/fig_5.png\">"
      ]
    },
    {
      "metadata": {
        "id": "-ptyPLVVBiS_",
        "colab_type": "code",
        "colab": {}
      },
      "cell_type": "code",
      "source": [
        "from keras.layers import Dense, concatenate\n",
        "from keras.layers.convolutional import Conv2D\n",
        "from keras.layers.pooling import AveragePooling2D\n",
        "\n",
        "\n",
        "# 入力する層と出力する層をきめてあげて、あとは順番にレイヤーを組んでいけばおｋ\n",
        "# 入力層\n",
        "_input = Input(shape=(32,32,3))\n",
        "\n",
        "# 中間層\n",
        "# block1\n",
        "x = Conv2D(128, (1,1), strides=4)(_input)\n",
        "block1 = Activation('relu')(x)\n",
        "\n",
        "# block2\n",
        "x = AveragePooling2D(3, strides=2)(_input)\n",
        "x = Conv2D(128, (1,1), strides=2)(x)\n",
        "block2 = Activation('relu')(x)\n",
        "\n",
        "# block3\n",
        "x = Conv2D(128, (1,1), strides=2)(_input)\n",
        "x = Activation('relu')(x)\n",
        "x = Conv2D(128, (2,2), strides=2)(x)\n",
        "block3 = Activation('relu')(x)\n",
        "\n",
        "# block4\n",
        "x = Conv2D(128, (1,1))(_input)\n",
        "x = Activation('relu')(x)\n",
        "x = Conv2D(128, (3,3), padding='same')(x)\n",
        "x = Activation('relu')(x)\n",
        "x = Conv2D(128, (3,3), strides=4)(x)\n",
        "block4 = Activation('relu')(x)\n",
        "\n",
        "# 連結\n",
        "con = concatenate([block1,block2,block3,block4], axis=-1)\n",
        "x = Flatten()(con)\n",
        "\n",
        "# 出力層\n",
        "_output = Dense(10, activation='softmax')(x)\n",
        "\n",
        "# モデルにする\n",
        "model = Model(_input, _output)\n",
        "\n",
        "# compileは一緒\n",
        "model.compile(optimizer='adam',loss='categorical_crossentropy', metrics=['accuracy'])"
      ],
      "execution_count": 0,
      "outputs": []
    },
    {
      "metadata": {
        "id": "uJieMiemF6AT",
        "colab_type": "code",
        "outputId": "9bfcb4de-e55e-490d-89c5-92fbfeaa0cbf",
        "colab": {
          "base_uri": "https://localhost:8080/",
          "height": 833
        }
      },
      "cell_type": "code",
      "source": [
        "model.summary()"
      ],
      "execution_count": 0,
      "outputs": [
        {
          "output_type": "stream",
          "text": [
            "__________________________________________________________________________________________________\n",
            "Layer (type)                    Output Shape         Param #     Connected to                     \n",
            "==================================================================================================\n",
            "input_13 (InputLayer)           (None, 32, 32, 3)    0                                            \n",
            "__________________________________________________________________________________________________\n",
            "conv2d_68 (Conv2D)              (None, 32, 32, 128)  512         input_13[0][0]                   \n",
            "__________________________________________________________________________________________________\n",
            "activation_74 (Activation)      (None, 32, 32, 128)  0           conv2d_68[0][0]                  \n",
            "__________________________________________________________________________________________________\n",
            "conv2d_66 (Conv2D)              (None, 16, 16, 128)  512         input_13[0][0]                   \n",
            "__________________________________________________________________________________________________\n",
            "conv2d_69 (Conv2D)              (None, 32, 32, 128)  147584      activation_74[0][0]              \n",
            "__________________________________________________________________________________________________\n",
            "average_pooling2d_10 (AveragePo (None, 15, 15, 3)    0           input_13[0][0]                   \n",
            "__________________________________________________________________________________________________\n",
            "activation_72 (Activation)      (None, 16, 16, 128)  0           conv2d_66[0][0]                  \n",
            "__________________________________________________________________________________________________\n",
            "activation_75 (Activation)      (None, 32, 32, 128)  0           conv2d_69[0][0]                  \n",
            "__________________________________________________________________________________________________\n",
            "conv2d_64 (Conv2D)              (None, 8, 8, 128)    512         input_13[0][0]                   \n",
            "__________________________________________________________________________________________________\n",
            "conv2d_65 (Conv2D)              (None, 8, 8, 128)    512         average_pooling2d_10[0][0]       \n",
            "__________________________________________________________________________________________________\n",
            "conv2d_67 (Conv2D)              (None, 8, 8, 128)    65664       activation_72[0][0]              \n",
            "__________________________________________________________________________________________________\n",
            "conv2d_70 (Conv2D)              (None, 8, 8, 128)    147584      activation_75[0][0]              \n",
            "__________________________________________________________________________________________________\n",
            "activation_70 (Activation)      (None, 8, 8, 128)    0           conv2d_64[0][0]                  \n",
            "__________________________________________________________________________________________________\n",
            "activation_71 (Activation)      (None, 8, 8, 128)    0           conv2d_65[0][0]                  \n",
            "__________________________________________________________________________________________________\n",
            "activation_73 (Activation)      (None, 8, 8, 128)    0           conv2d_67[0][0]                  \n",
            "__________________________________________________________________________________________________\n",
            "activation_76 (Activation)      (None, 8, 8, 128)    0           conv2d_70[0][0]                  \n",
            "__________________________________________________________________________________________________\n",
            "concatenate_9 (Concatenate)     (None, 8, 8, 512)    0           activation_70[0][0]              \n",
            "                                                                 activation_71[0][0]              \n",
            "                                                                 activation_73[0][0]              \n",
            "                                                                 activation_76[0][0]              \n",
            "__________________________________________________________________________________________________\n",
            "flatten_2 (Flatten)             (None, 32768)        0           concatenate_9[0][0]              \n",
            "__________________________________________________________________________________________________\n",
            "dense_11 (Dense)                (None, 10)           327690      flatten_2[0][0]                  \n",
            "==================================================================================================\n",
            "Total params: 690,570\n",
            "Trainable params: 690,570\n",
            "Non-trainable params: 0\n",
            "__________________________________________________________________________________________________\n"
          ],
          "name": "stdout"
        }
      ]
    },
    {
      "metadata": {
        "id": "gsOYsfL7FxGu",
        "colab_type": "code",
        "outputId": "64b3f1d0-81c5-4038-86ac-a83c5fcded13",
        "colab": {
          "base_uri": "https://localhost:8080/",
          "height": 714
        }
      },
      "cell_type": "code",
      "source": [
        "epochs = 20\n",
        "batch_size = 128\n",
        "history = model.fit(X_train, y_train, epochs=epochs, batch_size=batch_size,\n",
        "                                  validation_data=(X_test, y_test))"
      ],
      "execution_count": 0,
      "outputs": [
        {
          "output_type": "stream",
          "text": [
            "Train on 50000 samples, validate on 10000 samples\n",
            "Epoch 1/20\n",
            "50000/50000 [==============================] - 33s 650us/step - loss: 1.5370 - acc: 0.4543 - val_loss: 1.3092 - val_acc: 0.5303\n",
            "Epoch 2/20\n",
            "50000/50000 [==============================] - 30s 593us/step - loss: 1.1635 - acc: 0.5910 - val_loss: 1.1185 - val_acc: 0.6057\n",
            "Epoch 3/20\n",
            "50000/50000 [==============================] - 30s 595us/step - loss: 1.0049 - acc: 0.6504 - val_loss: 1.0844 - val_acc: 0.6212\n",
            "Epoch 4/20\n",
            "50000/50000 [==============================] - 30s 595us/step - loss: 0.8943 - acc: 0.6896 - val_loss: 1.0300 - val_acc: 0.6425\n",
            "Epoch 5/20\n",
            "50000/50000 [==============================] - 30s 594us/step - loss: 0.8005 - acc: 0.7218 - val_loss: 0.9906 - val_acc: 0.6584\n",
            "Epoch 6/20\n",
            "50000/50000 [==============================] - 30s 595us/step - loss: 0.7169 - acc: 0.7509 - val_loss: 1.0493 - val_acc: 0.6495\n",
            "Epoch 7/20\n",
            "50000/50000 [==============================] - 30s 595us/step - loss: 0.6406 - acc: 0.7786 - val_loss: 1.0372 - val_acc: 0.6570\n",
            "Epoch 8/20\n",
            "50000/50000 [==============================] - 30s 593us/step - loss: 0.5699 - acc: 0.8017 - val_loss: 1.0926 - val_acc: 0.6526\n",
            "Epoch 9/20\n",
            "50000/50000 [==============================] - 30s 593us/step - loss: 0.5043 - acc: 0.8256 - val_loss: 1.1247 - val_acc: 0.6606\n",
            "Epoch 10/20\n",
            "50000/50000 [==============================] - 30s 596us/step - loss: 0.4445 - acc: 0.8463 - val_loss: 1.2112 - val_acc: 0.6490\n",
            "Epoch 11/20\n",
            "50000/50000 [==============================] - 30s 595us/step - loss: 0.3863 - acc: 0.8654 - val_loss: 1.2828 - val_acc: 0.6514\n",
            "Epoch 12/20\n",
            "50000/50000 [==============================] - 30s 595us/step - loss: 0.3387 - acc: 0.8839 - val_loss: 1.4050 - val_acc: 0.6409\n",
            "Epoch 13/20\n",
            "50000/50000 [==============================] - 30s 597us/step - loss: 0.2952 - acc: 0.8975 - val_loss: 1.5116 - val_acc: 0.6401\n",
            "Epoch 14/20\n",
            "50000/50000 [==============================] - 30s 596us/step - loss: 0.2565 - acc: 0.9120 - val_loss: 1.6277 - val_acc: 0.6407\n",
            "Epoch 15/20\n",
            "50000/50000 [==============================] - 30s 594us/step - loss: 0.2199 - acc: 0.9245 - val_loss: 1.7511 - val_acc: 0.6399\n",
            "Epoch 16/20\n",
            "50000/50000 [==============================] - 30s 596us/step - loss: 0.1868 - acc: 0.9372 - val_loss: 1.8787 - val_acc: 0.6288\n",
            "Epoch 17/20\n",
            "50000/50000 [==============================] - 30s 597us/step - loss: 0.1690 - acc: 0.9430 - val_loss: 1.9187 - val_acc: 0.6394\n",
            "Epoch 18/20\n",
            "50000/50000 [==============================] - 30s 596us/step - loss: 0.1405 - acc: 0.9531 - val_loss: 2.1192 - val_acc: 0.6340\n",
            "Epoch 19/20\n",
            "50000/50000 [==============================] - 30s 593us/step - loss: 0.1347 - acc: 0.9539 - val_loss: 2.2086 - val_acc: 0.6271\n",
            "Epoch 20/20\n",
            "50000/50000 [==============================] - 30s 595us/step - loss: 0.1122 - acc: 0.9614 - val_loss: 2.3506 - val_acc: 0.6257\n"
          ],
          "name": "stdout"
        }
      ]
    },
    {
      "metadata": {
        "id": "gUNfKx7WKaMV",
        "colab_type": "text"
      },
      "cell_type": "markdown",
      "source": [
        "## 多出力モデル\n",
        "\n",
        "さっきのモデルから出力する層を１つ追加してみましょう -> 入力された画像から2の出力がえられる"
      ]
    },
    {
      "metadata": {
        "id": "6WufwduWHBpD",
        "colab_type": "code",
        "colab": {}
      },
      "cell_type": "code",
      "source": [
        "from keras.layers import Dense, concatenate\n",
        "from keras.layers.convolutional import Conv2D\n",
        "from keras.layers.pooling import AveragePooling2D\n",
        "\n",
        "\n",
        "# 入力する層と出力する層をきめてあげて、あとは順番にレイヤーを組んでいけばおｋ\n",
        "# 入力層\n",
        "_input = Input(shape=(32,32,3))\n",
        "\n",
        "# 中間層\n",
        "# block1\n",
        "x = Conv2D(128, (1,1), strides=4)(_input)\n",
        "block1 = Activation('relu')(x)\n",
        "\n",
        "# block2\n",
        "x = AveragePooling2D(3, strides=2)(_input)\n",
        "x = Conv2D(128, (1,1), strides=2)(x)\n",
        "block2 = Activation('relu')(x)\n",
        "\n",
        "# block3\n",
        "x = Conv2D(128, (1,1), strides=2)(_input)\n",
        "x = Activation('relu')(x)\n",
        "x = Conv2D(128, (2,2), strides=2)(x)\n",
        "block3 = Activation('relu')(x)\n",
        "\n",
        "# block4\n",
        "x = Conv2D(128, (1,1))(_input)\n",
        "x = Activation('relu')(x)\n",
        "x = Conv2D(128, (3,3), padding='same')(x)\n",
        "x = Activation('relu')(x)\n",
        "x = Conv2D(128, (3,3), strides=4)(x)\n",
        "block4 = Activation('relu')(x)\n",
        "\n",
        "# 連結\n",
        "con = concatenate([block1,block2,block3,block4], axis=-1)\n",
        "x = Flatten()(con)\n",
        "\n",
        "# 出力層1\n",
        "# あとから損失関数と紐付けるためにレイヤーに名前をつける\n",
        "_output1 = Dense(10, activation='softmax', name='output1')(x)\n",
        "\n",
        "\n",
        "# block4から全結合層2つならべて出力するblock(枝？)を用意する\n",
        "x = Flatten()(block4)\n",
        "x = Dense(128)(x)\n",
        "x = Activation('relu')(x)\n",
        "x = Dense(64)(x)\n",
        "x = Activation('relu')(x)\n",
        "_output2 = Dense(10, activation='softmax', name='output2')(x)\n",
        "\n",
        "# モデルにする(outputが2つあることに注意)\n",
        "model = Model(_input, [_output1, _output2])\n",
        "\n",
        "# compileは複数の損失を指定してあげる\n",
        "model.compile(optimizer='adam',loss={'output1': 'categorical_crossentropy', 'output2': 'categorical_crossentropy'}, metrics=['accuracy'])"
      ],
      "execution_count": 0,
      "outputs": []
    },
    {
      "metadata": {
        "id": "epszKVedLrQl",
        "colab_type": "code",
        "outputId": "db885e95-5300-4b0f-ef86-fc7dea4c61fc",
        "colab": {
          "base_uri": "https://localhost:8080/",
          "height": 1037
        }
      },
      "cell_type": "code",
      "source": [
        "model.summary()"
      ],
      "execution_count": 0,
      "outputs": [
        {
          "output_type": "stream",
          "text": [
            "__________________________________________________________________________________________________\n",
            "Layer (type)                    Output Shape         Param #     Connected to                     \n",
            "==================================================================================================\n",
            "input_15 (InputLayer)           (None, 32, 32, 3)    0                                            \n",
            "__________________________________________________________________________________________________\n",
            "conv2d_82 (Conv2D)              (None, 32, 32, 128)  512         input_15[0][0]                   \n",
            "__________________________________________________________________________________________________\n",
            "activation_90 (Activation)      (None, 32, 32, 128)  0           conv2d_82[0][0]                  \n",
            "__________________________________________________________________________________________________\n",
            "conv2d_83 (Conv2D)              (None, 32, 32, 128)  147584      activation_90[0][0]              \n",
            "__________________________________________________________________________________________________\n",
            "activation_91 (Activation)      (None, 32, 32, 128)  0           conv2d_83[0][0]                  \n",
            "__________________________________________________________________________________________________\n",
            "conv2d_84 (Conv2D)              (None, 8, 8, 128)    147584      activation_91[0][0]              \n",
            "__________________________________________________________________________________________________\n",
            "conv2d_80 (Conv2D)              (None, 16, 16, 128)  512         input_15[0][0]                   \n",
            "__________________________________________________________________________________________________\n",
            "activation_92 (Activation)      (None, 8, 8, 128)    0           conv2d_84[0][0]                  \n",
            "__________________________________________________________________________________________________\n",
            "average_pooling2d_12 (AveragePo (None, 15, 15, 3)    0           input_15[0][0]                   \n",
            "__________________________________________________________________________________________________\n",
            "activation_88 (Activation)      (None, 16, 16, 128)  0           conv2d_80[0][0]                  \n",
            "__________________________________________________________________________________________________\n",
            "flatten_5 (Flatten)             (None, 8192)         0           activation_92[0][0]              \n",
            "__________________________________________________________________________________________________\n",
            "conv2d_78 (Conv2D)              (None, 8, 8, 128)    512         input_15[0][0]                   \n",
            "__________________________________________________________________________________________________\n",
            "conv2d_79 (Conv2D)              (None, 8, 8, 128)    512         average_pooling2d_12[0][0]       \n",
            "__________________________________________________________________________________________________\n",
            "conv2d_81 (Conv2D)              (None, 8, 8, 128)    65664       activation_88[0][0]              \n",
            "__________________________________________________________________________________________________\n",
            "dense_14 (Dense)                (None, 128)          1048704     flatten_5[0][0]                  \n",
            "__________________________________________________________________________________________________\n",
            "activation_86 (Activation)      (None, 8, 8, 128)    0           conv2d_78[0][0]                  \n",
            "__________________________________________________________________________________________________\n",
            "activation_87 (Activation)      (None, 8, 8, 128)    0           conv2d_79[0][0]                  \n",
            "__________________________________________________________________________________________________\n",
            "activation_89 (Activation)      (None, 8, 8, 128)    0           conv2d_81[0][0]                  \n",
            "__________________________________________________________________________________________________\n",
            "activation_93 (Activation)      (None, 128)          0           dense_14[0][0]                   \n",
            "__________________________________________________________________________________________________\n",
            "concatenate_11 (Concatenate)    (None, 8, 8, 512)    0           activation_86[0][0]              \n",
            "                                                                 activation_87[0][0]              \n",
            "                                                                 activation_89[0][0]              \n",
            "                                                                 activation_92[0][0]              \n",
            "__________________________________________________________________________________________________\n",
            "dense_15 (Dense)                (None, 64)           8256        activation_93[0][0]              \n",
            "__________________________________________________________________________________________________\n",
            "flatten_4 (Flatten)             (None, 32768)        0           concatenate_11[0][0]             \n",
            "__________________________________________________________________________________________________\n",
            "activation_94 (Activation)      (None, 64)           0           dense_15[0][0]                   \n",
            "__________________________________________________________________________________________________\n",
            "output1 (Dense)                 (None, 10)           327690      flatten_4[0][0]                  \n",
            "__________________________________________________________________________________________________\n",
            "output2 (Dense)                 (None, 10)           650         activation_94[0][0]              \n",
            "==================================================================================================\n",
            "Total params: 1,748,180\n",
            "Trainable params: 1,748,180\n",
            "Non-trainable params: 0\n",
            "__________________________________________________________________________________________________\n"
          ],
          "name": "stdout"
        }
      ]
    },
    {
      "metadata": {
        "id": "dn4g3rOuLtRX",
        "colab_type": "code",
        "outputId": "4b7de3d2-263e-4077-e773-bf87e35364c5",
        "colab": {
          "base_uri": "https://localhost:8080/",
          "height": 734
        }
      },
      "cell_type": "code",
      "source": [
        "epochs = 20\n",
        "batch_size = 128\n",
        "\n",
        "# 出力が２つになったのでdictで渡します\n",
        "history = model.fit(X_train, {'output1': y_train, 'output2':y_train}, epochs=epochs, batch_size=batch_size,\n",
        "                                  validation_data=(X_test, {'output1': y_test, 'output2':y_test}))"
      ],
      "execution_count": 0,
      "outputs": [
        {
          "output_type": "stream",
          "text": [
            "Train on 50000 samples, validate on 10000 samples\n",
            "Epoch 1/20\n",
            "50000/50000 [==============================] - 33s 664us/step - loss: 3.1440 - output1_loss: 1.5473 - output2_loss: 1.5967 - output1_acc: 0.4516 - output2_acc: 0.4245 - val_loss: 2.6561 - val_output1_loss: 1.3039 - val_output2_loss: 1.3522 - val_output1_acc: 0.5334 - val_output2_acc: 0.5147\n",
            "Epoch 2/20\n",
            "50000/50000 [==============================] - 32s 636us/step - loss: 2.4685 - output1_loss: 1.2350 - output2_loss: 1.2335 - output1_acc: 0.5651 - output2_acc: 0.5580 - val_loss: 2.3645 - val_output1_loss: 1.2030 - val_output2_loss: 1.1615 - val_output1_acc: 0.5668 - val_output2_acc: 0.5829\n",
            "Epoch 3/20\n",
            "50000/50000 [==============================] - 32s 637us/step - loss: 2.1701 - output1_loss: 1.1033 - output2_loss: 1.0668 - output1_acc: 0.6124 - output2_acc: 0.6239 - val_loss: 2.2344 - val_output1_loss: 1.1314 - val_output2_loss: 1.1030 - val_output1_acc: 0.6010 - val_output2_acc: 0.6068\n",
            "Epoch 4/20\n",
            "50000/50000 [==============================] - 32s 636us/step - loss: 1.9381 - output1_loss: 1.0015 - output2_loss: 0.9366 - output1_acc: 0.6484 - output2_acc: 0.6668 - val_loss: 2.1345 - val_output1_loss: 1.0790 - val_output2_loss: 1.0555 - val_output1_acc: 0.6186 - val_output2_acc: 0.6271\n",
            "Epoch 5/20\n",
            "50000/50000 [==============================] - 32s 635us/step - loss: 1.7459 - output1_loss: 0.9211 - output2_loss: 0.8248 - output1_acc: 0.6778 - output2_acc: 0.7109 - val_loss: 2.1072 - val_output1_loss: 1.0777 - val_output2_loss: 1.0296 - val_output1_acc: 0.6163 - val_output2_acc: 0.6368\n",
            "Epoch 6/20\n",
            "50000/50000 [==============================] - 32s 637us/step - loss: 1.5728 - output1_loss: 0.8539 - output2_loss: 0.7189 - output1_acc: 0.7012 - output2_acc: 0.7449 - val_loss: 2.0809 - val_output1_loss: 1.0596 - val_output2_loss: 1.0213 - val_output1_acc: 0.6312 - val_output2_acc: 0.6473\n",
            "Epoch 7/20\n",
            "50000/50000 [==============================] - 32s 638us/step - loss: 1.4147 - output1_loss: 0.7950 - output2_loss: 0.6197 - output1_acc: 0.7234 - output2_acc: 0.7797 - val_loss: 2.1155 - val_output1_loss: 1.0532 - val_output2_loss: 1.0623 - val_output1_acc: 0.6319 - val_output2_acc: 0.6500\n",
            "Epoch 8/20\n",
            "50000/50000 [==============================] - 32s 635us/step - loss: 1.2672 - output1_loss: 0.7420 - output2_loss: 0.5252 - output1_acc: 0.7389 - output2_acc: 0.8144 - val_loss: 2.2293 - val_output1_loss: 1.1025 - val_output2_loss: 1.1267 - val_output1_acc: 0.6247 - val_output2_acc: 0.6473\n",
            "Epoch 9/20\n",
            "50000/50000 [==============================] - 32s 634us/step - loss: 1.1348 - output1_loss: 0.6965 - output2_loss: 0.4383 - output1_acc: 0.7541 - output2_acc: 0.8449 - val_loss: 2.3981 - val_output1_loss: 1.1269 - val_output2_loss: 1.2712 - val_output1_acc: 0.6285 - val_output2_acc: 0.6350\n",
            "Epoch 10/20\n",
            "50000/50000 [==============================] - 32s 635us/step - loss: 1.0020 - output1_loss: 0.6478 - output2_loss: 0.3542 - output1_acc: 0.7739 - output2_acc: 0.8755 - val_loss: 2.4908 - val_output1_loss: 1.1483 - val_output2_loss: 1.3425 - val_output1_acc: 0.6303 - val_output2_acc: 0.6403\n",
            "Epoch 11/20\n",
            "50000/50000 [==============================] - 32s 637us/step - loss: 0.8907 - output1_loss: 0.6065 - output2_loss: 0.2843 - output1_acc: 0.7874 - output2_acc: 0.8989 - val_loss: 2.6826 - val_output1_loss: 1.2102 - val_output2_loss: 1.4724 - val_output1_acc: 0.6226 - val_output2_acc: 0.6407\n",
            "Epoch 12/20\n",
            "50000/50000 [==============================] - 32s 636us/step - loss: 0.7910 - output1_loss: 0.5669 - output2_loss: 0.2242 - output1_acc: 0.8025 - output2_acc: 0.9223 - val_loss: 2.8665 - val_output1_loss: 1.2504 - val_output2_loss: 1.6161 - val_output1_acc: 0.6261 - val_output2_acc: 0.6400\n",
            "Epoch 13/20\n",
            "50000/50000 [==============================] - 32s 639us/step - loss: 0.6977 - output1_loss: 0.5272 - output2_loss: 0.1706 - output1_acc: 0.8169 - output2_acc: 0.9419 - val_loss: 3.0774 - val_output1_loss: 1.3093 - val_output2_loss: 1.7681 - val_output1_acc: 0.6117 - val_output2_acc: 0.6334\n",
            "Epoch 14/20\n",
            "50000/50000 [==============================] - 32s 635us/step - loss: 0.6460 - output1_loss: 0.4999 - output2_loss: 0.1461 - output1_acc: 0.8258 - output2_acc: 0.9507 - val_loss: 3.3043 - val_output1_loss: 1.3882 - val_output2_loss: 1.9161 - val_output1_acc: 0.6084 - val_output2_acc: 0.6260\n",
            "Epoch 15/20\n",
            "50000/50000 [==============================] - 32s 634us/step - loss: 0.5918 - output1_loss: 0.4698 - output2_loss: 0.1221 - output1_acc: 0.8357 - output2_acc: 0.9581 - val_loss: 3.3934 - val_output1_loss: 1.3957 - val_output2_loss: 1.9977 - val_output1_acc: 0.6125 - val_output2_acc: 0.6302\n",
            "Epoch 16/20\n",
            "50000/50000 [==============================] - 32s 636us/step - loss: 0.5338 - output1_loss: 0.4347 - output2_loss: 0.0991 - output1_acc: 0.8480 - output2_acc: 0.9650 - val_loss: 3.7226 - val_output1_loss: 1.4690 - val_output2_loss: 2.2536 - val_output1_acc: 0.6133 - val_output2_acc: 0.6274\n",
            "Epoch 17/20\n",
            "50000/50000 [==============================] - 32s 636us/step - loss: 0.5036 - output1_loss: 0.4130 - output2_loss: 0.0906 - output1_acc: 0.8547 - output2_acc: 0.9688 - val_loss: 3.8111 - val_output1_loss: 1.5047 - val_output2_loss: 2.3064 - val_output1_acc: 0.6035 - val_output2_acc: 0.6250\n",
            "Epoch 18/20\n",
            "50000/50000 [==============================] - 32s 637us/step - loss: 0.4696 - output1_loss: 0.3854 - output2_loss: 0.0842 - output1_acc: 0.8650 - output2_acc: 0.9711 - val_loss: 3.9014 - val_output1_loss: 1.5468 - val_output2_loss: 2.3546 - val_output1_acc: 0.6054 - val_output2_acc: 0.6293\n",
            "Epoch 19/20\n",
            "50000/50000 [==============================] - 32s 635us/step - loss: 0.4474 - output1_loss: 0.3662 - output2_loss: 0.0811 - output1_acc: 0.8706 - output2_acc: 0.9722 - val_loss: 4.1028 - val_output1_loss: 1.6009 - val_output2_loss: 2.5018 - val_output1_acc: 0.6126 - val_output2_acc: 0.6208\n",
            "Epoch 20/20\n",
            "50000/50000 [==============================] - 32s 636us/step - loss: 0.4094 - output1_loss: 0.3359 - output2_loss: 0.0735 - output1_acc: 0.8830 - output2_acc: 0.9746 - val_loss: 4.3779 - val_output1_loss: 1.7294 - val_output2_loss: 2.6486 - val_output1_acc: 0.6023 - val_output2_acc: 0.6296\n"
          ],
          "name": "stdout"
        }
      ]
    },
    {
      "metadata": {
        "id": "kyvQS5c1LvMM",
        "colab_type": "code",
        "colab": {}
      },
      "cell_type": "code",
      "source": [
        ""
      ],
      "execution_count": 0,
      "outputs": []
    }
  ]
}